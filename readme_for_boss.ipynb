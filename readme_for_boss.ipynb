{
 "cells": [
  {
   "cell_type": "markdown",
   "id": "14eaad9a-0c67-4c42-8520-ea1707f9895a",
   "metadata": {
    "pycharm": {
     "name": "#%% md\n"
    }
   },
   "source": [
    "### LoRA 微调\n",
    "\n",
    "#### （增量）预训练\n",
    "\n",
    "```bash\n",
    "llamafactory-cli train examples/train_lora/llama3_lora_pretrain.yaml\n",
    "llamafactory-cli train examples/train_lora/llama3_lora_pretrain_GJB5000B.yaml\n",
    "```\n",
    "\n",
    "#### 指令监督微调\n",
    "\n",
    "```bash\n",
    "llamafactory-cli train examples/train_lora/llama3_lora_sft.yaml\n",
    "\n",
    "\n",
    "\n",
    "llamafactory-cli train \\\n",
    "    --stage sft \\\n",
    "    --do_train True \\\n",
    "    --model_name_or_path ./models/Llama3-8B-Chinese-Chat \\\n",
    "    --preprocessing_num_workers 16 \\\n",
    "    --finetuning_type lora \\\n",
    "    --quantization_method bitsandbytes \\\n",
    "    --template llama3 \\\n",
    "    --flash_attn auto \\\n",
    "    --dataset_dir data \\\n",
    "    --dataset identity,alpaca_GJB5000B_20240730V1 \\\n",
    "    --cutoff_len 1024 \\\n",
    "    --learning_rate 1e-05 \\\n",
    "    --num_train_epochs 20.0 \\\n",
    "    --max_samples 1000 \\\n",
    "    --per_device_train_batch_size 8 \\\n",
    "    --gradient_accumulation_steps 2 \\\n",
    "    --lr_scheduler_type cosine \\\n",
    "    --max_grad_norm 1.0 \\\n",
    "    --logging_steps 5 \\\n",
    "    --save_steps 100 \\\n",
    "    --warmup_steps 0 \\\n",
    "    --optim adamw_torch \\\n",
    "    --packing False \\\n",
    "    --report_to none \\\n",
    "    --output_dir saves/LLaMA3-8B-Chinese-Chat/lora/train_2024-07-31-11-32-05 \\\n",
    "    --bf16 True \\\n",
    "    --plot_loss True \\\n",
    "    --ddp_timeout 180000000 \\\n",
    "    --include_num_input_tokens_seen True \\\n",
    "    --adapter_name_or_path saves/LLaMA3-8B-Chinese-Chat/lora/train_2024-07-31-09-28-46-c4-1e5-20epoch \\\n",
    "    --lora_rank 8 \\\n",
    "    --lora_alpha 16 \\\n",
    "    --lora_dropout 0 \\\n",
    "    --use_dora True \\\n",
    "    --lora_target all\n",
    "    \n",
    "```\n"
   ]
  },
  {
   "cell_type": "markdown",
   "id": "3483cc57-cb92-4f4a-9b02-1cde5ef09626",
   "metadata": {
    "pycharm": {
     "name": "#%% md\n"
    }
   },
   "source": [
    "\n",
    "\n",
    "\n",
    "### 合并 LoRA 适配器与模型量化\n",
    "\n",
    "#### 合并 LoRA 适配器\n",
    "\n",
    "注：请勿使用量化后的模型或 `quantization_bit` 参数来合并 LoRA 适配器。\n",
    "\n",
    "```bash\n",
    "llamafactory-cli export examples/merge_lora/llama3_lora_sft_train_2024-07-31-10-41-46-c4-1e5-20epoch.yaml\n",
    "```"
   ]
  },
  {
   "cell_type": "code",
   "execution_count": null,
   "id": "54da6f38-3cec-4c0f-9df7-871c02aa6f6d",
   "metadata": {
    "pycharm": {
     "name": "#%%\n"
    }
   },
   "outputs": [],
   "source": []
  }
 ],
 "metadata": {
  "kernelspec": {
   "display_name": "Python 3 (ipykernel)",
   "language": "python",
   "name": "python3"
  },
  "language_info": {
   "codemirror_mode": {
    "name": "ipython",
    "version": 3
   },
   "file_extension": ".py",
   "mimetype": "text/x-python",
   "name": "python",
   "nbconvert_exporter": "python",
   "pygments_lexer": "ipython3",
   "version": "3.10.14"
  }
 },
 "nbformat": 4,
 "nbformat_minor": 5
}