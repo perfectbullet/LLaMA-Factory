{
 "cells": [
  {
   "cell_type": "code",
   "execution_count": null,
   "id": "a4bde3ce-5fe3-458c-9af4-cf8993a1e11d",
   "metadata": {},
   "outputs": [],
   "source": [
    "#模型下载\n",
    "from modelscope import snapshot_download\n",
    "model_dir = snapshot_download('seanzhang/Llama3-Chinese', cache_dir='./models/Llama3-Chinese')"
   ]
  },
  {
   "cell_type": "code",
   "execution_count": 1,
   "id": "8d7304cf-d495-46a6-aee2-5f054e28188b",
   "metadata": {
    "pycharm": {
     "name": "#%%\n"
    }
   },
   "outputs": [],
   "source": [
    "import torch"
   ]
  },
  {
   "cell_type": "code",
   "execution_count": 2,
   "id": "61c1f13b-96db-4d30-bc12-11a2a6711d6b",
   "metadata": {
    "pycharm": {
     "name": "#%%\n"
    }
   },
   "outputs": [
    {
     "data": {
      "text/plain": [
       "<function torch.cuda.is_available() -> bool>"
      ]
     },
     "execution_count": 2,
     "metadata": {},
     "output_type": "execute_result"
    }
   ],
   "source": [
    "torch.cuda.is_available"
   ]
  },
  {
   "cell_type": "code",
   "execution_count": 4,
   "id": "8f5f1c52-edb7-4a20-8da6-02825504608a",
   "metadata": {
    "pycharm": {
     "name": "#%%\n"
    },
    "scrolled": true
   },
   "outputs": [
    {
     "name": "stderr",
     "output_type": "stream",
     "text": [
      "Downloading: 100%|██████████████████████████████████████████████████████████████████████████████████████████████████████████████████████████████████████| 654/654 [00:00<00:00, 1.90kB/s]\n",
      "Downloading: 100%|██████████████████████████████████████████████████████████████████████████████████████████████████████████████████████████████████████| 48.0/48.0 [00:00<00:00, 140B/s]\n",
      "Downloading: 100%|████████████████████████████████████████████████████████████████████████████████████████████████████████████████████████████████████████| 177/177 [00:00<00:00, 544B/s]\n",
      "Downloading: 100%|██████████████████████████████████████████████████████████████████████████████████████████████████████████████████████████████████| 7.62k/7.62k [00:00<00:00, 21.9kB/s]\n",
      "Downloading: 100%|██████████████████████████████████████████████████████████████████████████████████████████████████████████████████████████████████| 4.63G/4.63G [15:36<00:00, 5.31MB/s]\n",
      "Downloading: 100%|██████████████████████████████████████████████████████████████████████████████████████████████████████████████████████████████████| 4.66G/4.66G [15:50<00:00, 5.26MB/s]\n",
      "Downloading:  47%|████████████████████████████████████████████████████████████▍                                                                     | 2.13G/4.58G [07:03<07:51, 5.57MB/s]2024-07-30 17:01:22,296 - modelscope - WARNING - Downloading: ./models/Meta-Llama-3-8B/._____temp/model-00003-of-00004.safetensors failed, reason: HTTPSConnectionPool(host='www.modelscope.cn', port=443): Read timed out. will retry\n",
      "Downloading: 4.58GB [14:59, 5.47MB/s]                                                                                                                                                    \n",
      "Downloading: 100%|██████████████████████████████████████████████████████████████████████████████████████████████████████████████████████████████████| 1.09G/1.09G [03:38<00:00, 5.33MB/s]\n",
      "Downloading: 100%|██████████████████████████████████████████████████████████████████████████████████████████████████████████████████████████████████| 23.4k/23.4k [00:00<00:00, 65.0kB/s]\n",
      "Downloading: 100%|██████████████████████████████████████████████████████████████████████████████████████████████████████████████████████████████████| 35.7k/35.7k [00:00<00:00, 77.3kB/s]\n",
      "Downloading: 100%|██████████████████████████████████████████████████████████████████████████████████████████████████████████████████████████████████████| 73.0/73.0 [00:00<00:00, 190B/s]\n",
      "Downloading: 100%|██████████████████████████████████████████████████████████████████████████████████████████████████████████████████████████████████| 8.66M/8.66M [00:01<00:00, 6.65MB/s]\n",
      "Downloading: 100%|██████████████████████████████████████████████████████████████████████████████████████████████████████████████████████████████████| 49.4k/49.4k [00:00<00:00, 78.2kB/s]\n",
      "Downloading: 100%|██████████████████████████████████████████████████████████████████████████████████████████████████████████████████████████████████| 4.59k/4.59k [00:00<00:00, 11.6kB/s]\n"
     ]
    }
   ],
   "source": [
    "# #模型下载\n",
    "# from modelscope import snapshot_download\n",
    "# #模型下载\n",
    "# from modelscope import snapshot_download\n",
    "# model_dir = snapshot_download('qwen/Qwen2-7B-Instruct', local_dir='./models/Qwen2-7B-Instruct')\n",
    "\n",
    "\n",
    "#模型下载\n",
    "# from modelscope import snapshot_download\n",
    "# model_dir = snapshot_download('LLM-Research/Meta-Llama-3-8B', local_dir='./models/Meta-Llama-3-8B')\n",
    "\n",
    "\n",
    "#模型下载\n",
    "from modelscope import snapshot_download\n",
    "# model_dir = snapshot_download('LLM-Research/Llama3-8B-Chinese', local_dir='./models/Llama3-8B-Chinese')\n",
    "\n",
    "#模型下载\n",
    "from modelscope import snapshot_download\n",
    "model_dir = snapshot_download('LLM-Research/Meta-Llama-3-8B', local_dir='./models/Meta-Llama-3-8B')"
   ]
  },
  {
   "cell_type": "code",
   "execution_count": null,
   "id": "a00c25e3-b0d8-4352-9479-7fbd2bb5593a",
   "metadata": {},
   "outputs": [],
   "source": []
  },
  {
   "cell_type": "code",
   "execution_count": 1,
   "id": "db714b9c-a901-461e-b382-ece7e538d5f0",
   "metadata": {
    "pycharm": {
     "name": "#%%\n"
    },
    "scrolled": true
   },
   "outputs": [
    {
     "name": "stderr",
     "output_type": "stream",
     "text": [
      "Downloading: 100%|██████████████████████████████████████████████████████████████████████████████████████████████████████████████████████████████████████| 654/654 [00:00<00:00, 1.96kB/s]\n",
      "Downloading: 100%|██████████████████████████████████████████████████████████████████████████████████████████████████████████████████████████████████████| 48.0/48.0 [00:00<00:00, 133B/s]\n",
      "Downloading: 100%|████████████████████████████████████████████████████████████████████████████████████████████████████████████████████████████████████████| 187/187 [00:00<00:00, 420B/s]\n",
      "Downloading: 100%|██████████████████████████████████████████████████████████████████████████████████████████████████████████████████████████████████| 7.62k/7.62k [00:00<00:00, 21.2kB/s]\n",
      "Downloading:  16%|████████████████████▉                                                                                                              | 757M/4.63G [02:18<13:00, 5.36MB/s]2024-07-19 17:52:13,240 - modelscope - WARNING - Downloading: ./models/Meta-Llama-3-8B-Instruct/._____temp/model-00001-of-00004.safetensors failed, reason: ('Connection broken: IncompleteRead(64228928 bytes read, 103543232 more expected)', IncompleteRead(64228928 bytes read, 103543232 more expected)) will retry\n",
      "Downloading: 4.69GB [14:06, 5.95MB/s]                                                                                                                                                    \n",
      "Downloading:  46%|███████████████████████████████████████████████████████████▊                                                                      | 2.14G/4.66G [06:57<07:23, 6.09MB/s]IOPub message rate exceeded.\n",
      "The Jupyter server will temporarily stop sending output\n",
      "to the client in order to avoid crashing it.\n",
      "To change this limit, set the config variable\n",
      "`--ServerApp.iopub_msg_rate_limit`.\n",
      "\n",
      "Current values:\n",
      "ServerApp.iopub_msg_rate_limit=1000.0 (msgs/sec)\n",
      "ServerApp.rate_limit_window=3.0 (secs)\n",
      "\n"
     ]
    }
   ],
   "source": [
    "# model_dir = snapshot_download('qwen/Qwen-7B', local_dir='./models')\n",
    "\n",
    "#模型下载\n",
    "# from modelscope import snapshot_download\n",
    "# model_dir = snapshot_download('qwen/Qwen-7B-Chat', local_dir='./models/Qwen-7B-Chat')\n",
    "\n",
    "\n",
    "#模型下载\n",
    "from modelscope import snapshot_download\n",
    "model_dir = snapshot_download('LLM-Research/Meta-Llama-3-8B-Instruct', local_dir='./models/Meta-Llama-3-8B-Instruct')\n"
   ]
  },
  {
   "cell_type": "code",
   "execution_count": 56,
   "id": "7fd105b3-abd9-40ab-8bbd-bfee854dded5",
   "metadata": {
    "pycharm": {
     "name": "#%%\n"
    }
   },
   "outputs": [
    {
     "name": "stdout",
     "output_type": "stream",
     "text": [
      "Looking in indexes: https://pypi.tuna.tsinghua.edu.cn/simple\n",
      "Collecting datasets==2.16.0\n",
      "  Downloading https://pypi.tuna.tsinghua.edu.cn/packages/a0/93/da8a22a292e51ab76f969eb87bda8fd70cc3963b4dd71f67bb92a70a7992/datasets-2.16.0-py3-none-any.whl (507 kB)\n",
      "\u001b[2K     \u001b[38;2;114;156;31m━━━━━━━━━━━━━━━━━━━━━━━━━━━━━━━━━━━━━━━\u001b[0m \u001b[32m507.1/507.1 kB\u001b[0m \u001b[31m1.2 MB/s\u001b[0m eta \u001b[36m0:00:00\u001b[0m MB/s\u001b[0m eta \u001b[36m0:00:01\u001b[0m:01\u001b[0m\n",
      "\u001b[?25hRequirement already satisfied: filelock in /home/ubuntu/miniconda3/envs/llmfactory/lib/python3.10/site-packages (from datasets==2.16.0) (3.14.0)\n",
      "Requirement already satisfied: numpy>=1.17 in /home/ubuntu/miniconda3/envs/llmfactory/lib/python3.10/site-packages (from datasets==2.16.0) (1.26.4)\n",
      "Requirement already satisfied: pyarrow>=8.0.0 in /home/ubuntu/miniconda3/envs/llmfactory/lib/python3.10/site-packages (from datasets==2.16.0) (16.1.0)\n",
      "Requirement already satisfied: pyarrow-hotfix in /home/ubuntu/miniconda3/envs/llmfactory/lib/python3.10/site-packages (from datasets==2.16.0) (0.6)\n",
      "Collecting dill<0.3.8,>=0.3.0 (from datasets==2.16.0)\n",
      "  Downloading https://pypi.tuna.tsinghua.edu.cn/packages/f5/3a/74a29b11cf2cdfcd6ba89c0cecd70b37cd1ba7b77978ce611eb7a146a832/dill-0.3.7-py3-none-any.whl (115 kB)\n",
      "\u001b[2K     \u001b[38;2;114;156;31m━━━━━━━━━━━━━━━━━━━━━━━━━━━━━━━━━━━━━\u001b[0m \u001b[32m115.3/115.3 kB\u001b[0m \u001b[31m646.7 kB/s\u001b[0m eta \u001b[36m0:00:00\u001b[0m[36m0:00:01\u001b[0mm eta \u001b[36m0:00:01\u001b[0m\n",
      "\u001b[?25hRequirement already satisfied: pandas in /home/ubuntu/miniconda3/envs/llmfactory/lib/python3.10/site-packages (from datasets==2.16.0) (2.2.2)\n",
      "Requirement already satisfied: requests>=2.19.0 in /home/ubuntu/miniconda3/envs/llmfactory/lib/python3.10/site-packages (from datasets==2.16.0) (2.32.0)\n",
      "Requirement already satisfied: tqdm>=4.62.1 in /home/ubuntu/miniconda3/envs/llmfactory/lib/python3.10/site-packages (from datasets==2.16.0) (4.66.4)\n",
      "Requirement already satisfied: xxhash in /home/ubuntu/miniconda3/envs/llmfactory/lib/python3.10/site-packages (from datasets==2.16.0) (3.4.1)\n",
      "Requirement already satisfied: multiprocess in /home/ubuntu/miniconda3/envs/llmfactory/lib/python3.10/site-packages (from datasets==2.16.0) (0.70.16)\n",
      "Collecting fsspec<=2023.10.0,>=2023.1.0 (from fsspec[http]<=2023.10.0,>=2023.1.0->datasets==2.16.0)\n",
      "  Downloading https://pypi.tuna.tsinghua.edu.cn/packages/e8/f6/3eccfb530aac90ad1301c582da228e4763f19e719ac8200752a4841b0b2d/fsspec-2023.10.0-py3-none-any.whl (166 kB)\n",
      "\u001b[2K     \u001b[38;2;114;156;31m━━━━━━━━━━━━━━━━━━━━━━━━━━━━━━━━━━━━━━━\u001b[0m \u001b[32m166.4/166.4 kB\u001b[0m \u001b[31m2.7 MB/s\u001b[0m eta \u001b[36m0:00:00\u001b[0m[31m4.0 MB/s\u001b[0m eta \u001b[36m0:00:01\u001b[0m\n",
      "\u001b[?25hRequirement already satisfied: aiohttp in /home/ubuntu/miniconda3/envs/llmfactory/lib/python3.10/site-packages (from datasets==2.16.0) (3.9.5)\n",
      "Requirement already satisfied: huggingface-hub>=0.19.4 in /home/ubuntu/miniconda3/envs/llmfactory/lib/python3.10/site-packages (from datasets==2.16.0) (0.23.4)\n",
      "Requirement already satisfied: packaging in /home/ubuntu/miniconda3/envs/llmfactory/lib/python3.10/site-packages (from datasets==2.16.0) (24.0)\n",
      "Requirement already satisfied: pyyaml>=5.1 in /home/ubuntu/miniconda3/envs/llmfactory/lib/python3.10/site-packages (from datasets==2.16.0) (6.0.1)\n",
      "Requirement already satisfied: aiosignal>=1.1.2 in /home/ubuntu/miniconda3/envs/llmfactory/lib/python3.10/site-packages (from aiohttp->datasets==2.16.0) (1.3.1)\n",
      "Requirement already satisfied: attrs>=17.3.0 in /home/ubuntu/miniconda3/envs/llmfactory/lib/python3.10/site-packages (from aiohttp->datasets==2.16.0) (23.2.0)\n",
      "Requirement already satisfied: frozenlist>=1.1.1 in /home/ubuntu/miniconda3/envs/llmfactory/lib/python3.10/site-packages (from aiohttp->datasets==2.16.0) (1.4.1)\n",
      "Requirement already satisfied: multidict<7.0,>=4.5 in /home/ubuntu/miniconda3/envs/llmfactory/lib/python3.10/site-packages (from aiohttp->datasets==2.16.0) (6.0.5)\n",
      "Requirement already satisfied: yarl<2.0,>=1.0 in /home/ubuntu/miniconda3/envs/llmfactory/lib/python3.10/site-packages (from aiohttp->datasets==2.16.0) (1.9.4)\n",
      "Requirement already satisfied: async-timeout<5.0,>=4.0 in /home/ubuntu/miniconda3/envs/llmfactory/lib/python3.10/site-packages (from aiohttp->datasets==2.16.0) (4.0.3)\n",
      "Requirement already satisfied: typing-extensions>=3.7.4.3 in /home/ubuntu/miniconda3/envs/llmfactory/lib/python3.10/site-packages (from huggingface-hub>=0.19.4->datasets==2.16.0) (4.11.0)\n",
      "Requirement already satisfied: charset-normalizer<4,>=2 in /home/ubuntu/miniconda3/envs/llmfactory/lib/python3.10/site-packages (from requests>=2.19.0->datasets==2.16.0) (3.3.2)\n",
      "Requirement already satisfied: idna<4,>=2.5 in /home/ubuntu/miniconda3/envs/llmfactory/lib/python3.10/site-packages (from requests>=2.19.0->datasets==2.16.0) (3.7)\n",
      "Requirement already satisfied: urllib3<3,>=1.21.1 in /home/ubuntu/miniconda3/envs/llmfactory/lib/python3.10/site-packages (from requests>=2.19.0->datasets==2.16.0) (2.2.1)\n",
      "Requirement already satisfied: certifi>=2017.4.17 in /home/ubuntu/miniconda3/envs/llmfactory/lib/python3.10/site-packages (from requests>=2.19.0->datasets==2.16.0) (2024.2.2)\n",
      "INFO: pip is looking at multiple versions of multiprocess to determine which version is compatible with other requirements. This could take a while.\n",
      "Collecting multiprocess (from datasets==2.16.0)\n",
      "  Downloading https://pypi.tuna.tsinghua.edu.cn/packages/35/a8/36d8d7b3e46b377800d8dec47891cdf05842d1a2366909ae4a0c89fbc5e6/multiprocess-0.70.15-py310-none-any.whl (134 kB)\n",
      "\u001b[2K     \u001b[38;2;114;156;31m━━━━━━━━━━━━━━━━━━━━━━━━━━━━━━━━━━━━━━━\u001b[0m \u001b[32m134.8/134.8 kB\u001b[0m \u001b[31m1.3 MB/s\u001b[0m eta \u001b[36m0:00:00\u001b[0m kB/s\u001b[0m eta \u001b[36m0:00:01\u001b[0m\n",
      "\u001b[?25hRequirement already satisfied: python-dateutil>=2.8.2 in /home/ubuntu/miniconda3/envs/llmfactory/lib/python3.10/site-packages (from pandas->datasets==2.16.0) (2.9.0)\n",
      "Requirement already satisfied: pytz>=2020.1 in /home/ubuntu/miniconda3/envs/llmfactory/lib/python3.10/site-packages (from pandas->datasets==2.16.0) (2024.1)\n",
      "Requirement already satisfied: tzdata>=2022.7 in /home/ubuntu/miniconda3/envs/llmfactory/lib/python3.10/site-packages (from pandas->datasets==2.16.0) (2024.1)\n",
      "Requirement already satisfied: six>=1.5 in /home/ubuntu/miniconda3/envs/llmfactory/lib/python3.10/site-packages (from python-dateutil>=2.8.2->pandas->datasets==2.16.0) (1.16.0)\n",
      "Installing collected packages: fsspec, dill, multiprocess, datasets\n",
      "  Attempting uninstall: fsspec\n",
      "    Found existing installation: fsspec 2024.3.1\n",
      "    Uninstalling fsspec-2024.3.1:\n",
      "      Successfully uninstalled fsspec-2024.3.1\n",
      "  Attempting uninstall: dill\n",
      "    Found existing installation: dill 0.3.8\n",
      "    Uninstalling dill-0.3.8:\n",
      "      Successfully uninstalled dill-0.3.8\n",
      "  Attempting uninstall: multiprocess\n",
      "    Found existing installation: multiprocess 0.70.16\n",
      "    Uninstalling multiprocess-0.70.16:\n",
      "      Successfully uninstalled multiprocess-0.70.16\n",
      "  Attempting uninstall: datasets\n",
      "    Found existing installation: datasets 2.19.1\n",
      "    Uninstalling datasets-2.19.1:\n",
      "      Successfully uninstalled datasets-2.19.1\n",
      "Successfully installed datasets-2.16.0 dill-0.3.7 fsspec-2023.10.0 multiprocess-0.70.15\n"
     ]
    }
   ],
   "source": [
    "!pip install datasets==2.16.0 "
   ]
  },
  {
   "cell_type": "code",
   "execution_count": 60,
   "id": "a9c57b82-4858-4e51-bf4a-d0a429e1aa12",
   "metadata": {
    "pycharm": {
     "name": "#%%\n"
    }
   },
   "outputs": [
    {
     "name": "stderr",
     "output_type": "stream",
     "text": [
      "2024-07-11 17:44:15,966 - modelscope - ERROR - The request model: Robin021/DISC-Law-SFT does not exist!\n"
     ]
    },
    {
     "ename": "HTTPError",
     "evalue": "The request model: Robin021/DISC-Law-SFT does not exist!",
     "output_type": "error",
     "traceback": [
      "\u001b[0;31m---------------------------------------------------------------------------\u001b[0m",
      "\u001b[0;31mHTTPError\u001b[0m                                 Traceback (most recent call last)",
      "Cell \u001b[0;32mIn[60], line 2\u001b[0m\n\u001b[1;32m      1\u001b[0m \u001b[38;5;66;03m# model_dir = snapshot_download('qwen/Qwen-7B', local_dir='./models')\u001b[39;00m\n\u001b[0;32m----> 2\u001b[0m model_dir2 \u001b[38;5;241m=\u001b[39m  \u001b[43msnapshot_download\u001b[49m\u001b[43m(\u001b[49m\u001b[38;5;124;43m'\u001b[39;49m\u001b[38;5;124;43mRobin021/DISC-Law-SFT\u001b[39;49m\u001b[38;5;124;43m'\u001b[39;49m\u001b[43m,\u001b[49m\u001b[43m \u001b[49m\u001b[43mlocal_dir\u001b[49m\u001b[38;5;241;43m=\u001b[39;49m\u001b[38;5;124;43m'\u001b[39;49m\u001b[38;5;124;43m./models/DISC-Law-SFT\u001b[39;49m\u001b[38;5;124;43m'\u001b[39;49m\u001b[43m)\u001b[49m\n",
      "File \u001b[0;32m~/miniconda3/envs/llmfactory/lib/python3.10/site-packages/modelscope/hub/snapshot_download.py:95\u001b[0m, in \u001b[0;36msnapshot_download\u001b[0;34m(model_id, revision, cache_dir, user_agent, local_files_only, cookies, ignore_file_pattern, allow_file_pattern, local_dir)\u001b[0m\n\u001b[1;32m     93\u001b[0m \u001b[38;5;28;01mif\u001b[39;00m cookies \u001b[38;5;129;01mis\u001b[39;00m \u001b[38;5;28;01mNone\u001b[39;00m:\n\u001b[1;32m     94\u001b[0m     cookies \u001b[38;5;241m=\u001b[39m ModelScopeConfig\u001b[38;5;241m.\u001b[39mget_cookies()\n\u001b[0;32m---> 95\u001b[0m revision_detail \u001b[38;5;241m=\u001b[39m \u001b[43m_api\u001b[49m\u001b[38;5;241;43m.\u001b[39;49m\u001b[43mget_valid_revision_detail\u001b[49m\u001b[43m(\u001b[49m\n\u001b[1;32m     96\u001b[0m \u001b[43m    \u001b[49m\u001b[43mmodel_id\u001b[49m\u001b[43m,\u001b[49m\u001b[43m \u001b[49m\u001b[43mrevision\u001b[49m\u001b[38;5;241;43m=\u001b[39;49m\u001b[43mrevision\u001b[49m\u001b[43m,\u001b[49m\u001b[43m \u001b[49m\u001b[43mcookies\u001b[49m\u001b[38;5;241;43m=\u001b[39;49m\u001b[43mcookies\u001b[49m\u001b[43m)\u001b[49m\n\u001b[1;32m     97\u001b[0m revision \u001b[38;5;241m=\u001b[39m revision_detail[\u001b[38;5;124m'\u001b[39m\u001b[38;5;124mRevision\u001b[39m\u001b[38;5;124m'\u001b[39m]\n\u001b[1;32m     99\u001b[0m snapshot_header \u001b[38;5;241m=\u001b[39m headers \u001b[38;5;28;01mif\u001b[39;00m \u001b[38;5;124m'\u001b[39m\u001b[38;5;124mCI_TEST\u001b[39m\u001b[38;5;124m'\u001b[39m \u001b[38;5;129;01min\u001b[39;00m os\u001b[38;5;241m.\u001b[39menviron \u001b[38;5;28;01melse\u001b[39;00m {\n\u001b[1;32m    100\u001b[0m     \u001b[38;5;241m*\u001b[39m\u001b[38;5;241m*\u001b[39mheaders,\n\u001b[1;32m    101\u001b[0m     \u001b[38;5;241m*\u001b[39m\u001b[38;5;241m*\u001b[39m{\n\u001b[1;32m    102\u001b[0m         \u001b[38;5;124m'\u001b[39m\u001b[38;5;124mSnapshot\u001b[39m\u001b[38;5;124m'\u001b[39m: \u001b[38;5;124m'\u001b[39m\u001b[38;5;124mTrue\u001b[39m\u001b[38;5;124m'\u001b[39m\n\u001b[1;32m    103\u001b[0m     }\n\u001b[1;32m    104\u001b[0m }\n",
      "File \u001b[0;32m~/miniconda3/envs/llmfactory/lib/python3.10/site-packages/modelscope/hub/api.py:498\u001b[0m, in \u001b[0;36mHubApi.get_valid_revision_detail\u001b[0;34m(self, model_id, revision, cookies)\u001b[0m\n\u001b[1;32m    494\u001b[0m current_timestamp \u001b[38;5;241m=\u001b[39m \u001b[38;5;28mint\u001b[39m(\u001b[38;5;28mround\u001b[39m(datetime\u001b[38;5;241m.\u001b[39mdatetime\u001b[38;5;241m.\u001b[39mnow()\u001b[38;5;241m.\u001b[39mtimestamp()))\n\u001b[1;32m    495\u001b[0m \u001b[38;5;66;03m# for active development in library codes (non-release-branches), release_timestamp\u001b[39;00m\n\u001b[1;32m    496\u001b[0m \u001b[38;5;66;03m# is set to be a far-away-time-in-the-future, to ensure that we shall\u001b[39;00m\n\u001b[1;32m    497\u001b[0m \u001b[38;5;66;03m# get the master-HEAD version from model repo by default (when no revision is provided)\u001b[39;00m\n\u001b[0;32m--> 498\u001b[0m all_branches_detail, all_tags_detail \u001b[38;5;241m=\u001b[39m \u001b[38;5;28;43mself\u001b[39;49m\u001b[38;5;241;43m.\u001b[39;49m\u001b[43mget_model_branches_and_tags_details\u001b[49m\u001b[43m(\u001b[49m\n\u001b[1;32m    499\u001b[0m \u001b[43m    \u001b[49m\u001b[43mmodel_id\u001b[49m\u001b[43m,\u001b[49m\u001b[43m \u001b[49m\u001b[43muse_cookies\u001b[49m\u001b[38;5;241;43m=\u001b[39;49m\u001b[38;5;28;43;01mFalse\u001b[39;49;00m\u001b[43m \u001b[49m\u001b[38;5;28;43;01mif\u001b[39;49;00m\u001b[43m \u001b[49m\u001b[43mcookies\u001b[49m\u001b[43m \u001b[49m\u001b[38;5;129;43;01mis\u001b[39;49;00m\u001b[43m \u001b[49m\u001b[38;5;28;43;01mNone\u001b[39;49;00m\u001b[43m \u001b[49m\u001b[38;5;28;43;01melse\u001b[39;49;00m\u001b[43m \u001b[49m\u001b[43mcookies\u001b[49m\u001b[43m)\u001b[49m\n\u001b[1;32m    500\u001b[0m all_branches \u001b[38;5;241m=\u001b[39m [x[\u001b[38;5;124m'\u001b[39m\u001b[38;5;124mRevision\u001b[39m\u001b[38;5;124m'\u001b[39m] \u001b[38;5;28;01mfor\u001b[39;00m x \u001b[38;5;129;01min\u001b[39;00m all_branches_detail] \u001b[38;5;28;01mif\u001b[39;00m all_branches_detail \u001b[38;5;28;01melse\u001b[39;00m []\n\u001b[1;32m    501\u001b[0m all_tags \u001b[38;5;241m=\u001b[39m [x[\u001b[38;5;124m'\u001b[39m\u001b[38;5;124mRevision\u001b[39m\u001b[38;5;124m'\u001b[39m] \u001b[38;5;28;01mfor\u001b[39;00m x \u001b[38;5;129;01min\u001b[39;00m all_tags_detail] \u001b[38;5;28;01mif\u001b[39;00m all_tags_detail \u001b[38;5;28;01melse\u001b[39;00m []\n",
      "File \u001b[0;32m~/miniconda3/envs/llmfactory/lib/python3.10/site-packages/modelscope/hub/api.py:578\u001b[0m, in \u001b[0;36mHubApi.get_model_branches_and_tags_details\u001b[0;34m(self, model_id, use_cookies)\u001b[0m\n\u001b[1;32m    575\u001b[0m path \u001b[38;5;241m=\u001b[39m \u001b[38;5;124mf\u001b[39m\u001b[38;5;124m'\u001b[39m\u001b[38;5;132;01m{\u001b[39;00m\u001b[38;5;28mself\u001b[39m\u001b[38;5;241m.\u001b[39mendpoint\u001b[38;5;132;01m}\u001b[39;00m\u001b[38;5;124m/api/v1/models/\u001b[39m\u001b[38;5;132;01m{\u001b[39;00mmodel_id\u001b[38;5;132;01m}\u001b[39;00m\u001b[38;5;124m/revisions\u001b[39m\u001b[38;5;124m'\u001b[39m\n\u001b[1;32m    576\u001b[0m r \u001b[38;5;241m=\u001b[39m \u001b[38;5;28mself\u001b[39m\u001b[38;5;241m.\u001b[39msession\u001b[38;5;241m.\u001b[39mget(path, cookies\u001b[38;5;241m=\u001b[39mcookies,\n\u001b[1;32m    577\u001b[0m                      headers\u001b[38;5;241m=\u001b[39m\u001b[38;5;28mself\u001b[39m\u001b[38;5;241m.\u001b[39mbuilder_headers(\u001b[38;5;28mself\u001b[39m\u001b[38;5;241m.\u001b[39mheaders))\n\u001b[0;32m--> 578\u001b[0m \u001b[43mhandle_http_response\u001b[49m\u001b[43m(\u001b[49m\u001b[43mr\u001b[49m\u001b[43m,\u001b[49m\u001b[43m \u001b[49m\u001b[43mlogger\u001b[49m\u001b[43m,\u001b[49m\u001b[43m \u001b[49m\u001b[43mcookies\u001b[49m\u001b[43m,\u001b[49m\u001b[43m \u001b[49m\u001b[43mmodel_id\u001b[49m\u001b[43m)\u001b[49m\n\u001b[1;32m    579\u001b[0m d \u001b[38;5;241m=\u001b[39m r\u001b[38;5;241m.\u001b[39mjson()\n\u001b[1;32m    580\u001b[0m raise_on_error(d)\n",
      "File \u001b[0;32m~/miniconda3/envs/llmfactory/lib/python3.10/site-packages/modelscope/hub/errors.py:118\u001b[0m, in \u001b[0;36mhandle_http_response\u001b[0;34m(response, logger, cookies, model_id)\u001b[0m\n\u001b[1;32m    116\u001b[0m \u001b[38;5;28;01mif\u001b[39;00m http_error_msg:  \u001b[38;5;66;03m# there is error.\u001b[39;00m\n\u001b[1;32m    117\u001b[0m     logger\u001b[38;5;241m.\u001b[39merror(http_error_msg)\n\u001b[0;32m--> 118\u001b[0m     \u001b[38;5;28;01mraise\u001b[39;00m HTTPError(http_error_msg, response\u001b[38;5;241m=\u001b[39mresponse)\n",
      "\u001b[0;31mHTTPError\u001b[0m: The request model: Robin021/DISC-Law-SFT does not exist!"
     ]
    }
   ],
   "source": [
    "# model_dir = snapshot_download('qwen/Qwen-7B', local_dir='./models')\n",
    "model_dir2 =  snapshot_download('Robin021/DISC-Law-SFT', local_dir='./models/DISC-Law-SFT')"
   ]
  },
  {
   "cell_type": "code",
   "execution_count": 7,
   "id": "16579c75-beb7-4e14-81f9-323386bd6b01",
   "metadata": {
    "pycharm": {
     "name": "#%%\n"
    }
   },
   "outputs": [
    {
     "name": "stderr",
     "output_type": "stream",
     "text": [
      "\n",
      "\n",
      "Downloading:   0%|                                                              | 0.00/3.67G [00:00<?, ?B/s]\u001b[A\u001b[A2024-09-28 00:20:55,030 - modelscope - WARNING - Downloading: model-00001-of-00004.safetensors failed, reason: ('Connection broken: IncompleteRead(5421355 bytes read, 162350805 more expected)', IncompleteRead(5421355 bytes read, 162350805 more expected)) will retry\n",
      "2024-09-28 00:21:20,200 - modelscope - WARNING - Downloading: model-00001-of-00004.safetensors failed, reason: ('Connection broken: IncompleteRead(8016790 bytes read, 159755370 more expected)', IncompleteRead(8016790 bytes read, 159755370 more expected)) will retry\n",
      "2024-09-28 00:21:24,209 - modelscope - WARNING - Downloading: model-00001-of-00004.safetensors failed, reason: ('Connection broken: IncompleteRead(7664706 bytes read, 160107454 more expected)', IncompleteRead(7664706 bytes read, 160107454 more expected)) will retry\n",
      "2024-09-28 00:21:29,546 - modelscope - WARNING - Downloading: model-00001-of-00004.safetensors failed, reason: ('Connection broken: IncompleteRead(7338712 bytes read, 160433448 more expected)', IncompleteRead(7338712 bytes read, 160433448 more expected)) will retry\n",
      "2024-09-28 00:23:34,654 - modelscope - WARNING - Downloading: model-00001-of-00004.safetensors failed, reason: ('Connection broken: IncompleteRead(7225710 bytes read, 160546450 more expected)', IncompleteRead(7225710 bytes read, 160546450 more expected)) will retry\n",
      "2024-09-28 00:23:53,246 - modelscope - WARNING - Downloading: model-00001-of-00004.safetensors failed, reason: ('Connection broken: IncompleteRead(8193106 bytes read, 159579054 more expected)', IncompleteRead(8193106 bytes read, 159579054 more expected)) will retry\n",
      "2024-09-28 00:24:03,359 - modelscope - WARNING - Downloading: model-00001-of-00004.safetensors failed, reason: HTTPSConnectionPool(host='www.modelscope.cn', port=443): Read timed out. will retry\n",
      "2024-09-28 00:24:08,870 - modelscope - WARNING - Downloading: model-00001-of-00004.safetensors failed, reason: ('Connection broken: IncompleteRead(9089520 bytes read, 158682640 more expected)', IncompleteRead(9089520 bytes read, 158682640 more expected)) will retry\n",
      "2024-09-28 00:25:28,296 - modelscope - WARNING - Downloading: model-00001-of-00004.safetensors failed, reason: ('Connection broken: IncompleteRead(2772816 bytes read, 164999344 more expected)', IncompleteRead(2772816 bytes read, 164999344 more expected)) will retry\n",
      "2024-09-28 00:26:03,564 - modelscope - WARNING - Downloading: model-00001-of-00004.safetensors failed, reason: ('Connection broken: IncompleteRead(6981090 bytes read, 160791070 more expected)', IncompleteRead(6981090 bytes read, 160791070 more expected)) will retry\n",
      "2024-09-28 00:26:14,760 - modelscope - WARNING - Downloading: model-00001-of-00004.safetensors failed, reason: ('Connection broken: IncompleteRead(7646342 bytes read, 160125818 more expected)', IncompleteRead(7646342 bytes read, 160125818 more expected)) will retry\n",
      "2024-09-28 00:26:34,425 - modelscope - WARNING - Downloading: model-00001-of-00004.safetensors failed, reason: ('Connection broken: IncompleteRead(8024907 bytes read, 159747253 more expected)', IncompleteRead(8024907 bytes read, 159747253 more expected)) will retry\n",
      "2024-09-28 00:27:48,670 - modelscope - WARNING - Downloading: model-00001-of-00004.safetensors failed, reason: ('Connection broken: IncompleteRead(7744352 bytes read, 160027808 more expected)', IncompleteRead(7744352 bytes read, 160027808 more expected)) will retry\n",
      "2024-09-28 00:28:32,292 - modelscope - WARNING - Downloading: model-00001-of-00004.safetensors failed, reason: ('Connection broken: IncompleteRead(7923298 bytes read, 159848862 more expected)', IncompleteRead(7923298 bytes read, 159848862 more expected)) will retry\n",
      "2024-09-28 00:28:34,773 - modelscope - WARNING - Downloading: model-00001-of-00004.safetensors failed, reason: ('Connection broken: IncompleteRead(7466454 bytes read, 160305706 more expected)', IncompleteRead(7466454 bytes read, 160305706 more expected)) will retry\n",
      "2024-09-28 00:29:05,344 - modelscope - WARNING - Downloading: model-00001-of-00004.safetensors failed, reason: ('Connection broken: IncompleteRead(7842827 bytes read, 159929333 more expected)', IncompleteRead(7842827 bytes read, 159929333 more expected)) will retry\n",
      "2024-09-28 00:29:30,507 - modelscope - WARNING - Downloading: model-00001-of-00004.safetensors failed, reason: ('Connection broken: IncompleteRead(4423680 bytes read, 163348480 more expected)', IncompleteRead(4423680 bytes read, 163348480 more expected)) will retry\n",
      "2024-09-28 00:30:08,826 - modelscope - WARNING - Downloading: model-00001-of-00004.safetensors failed, reason: ('Connection broken: IncompleteRead(4200930 bytes read, 163571230 more expected)', IncompleteRead(4200930 bytes read, 163571230 more expected)) will retry\n",
      "2024-09-28 00:30:17,793 - modelscope - WARNING - Downloading: model-00001-of-00004.safetensors failed, reason: ('Connection broken: IncompleteRead(4480854 bytes read, 163291306 more expected)', IncompleteRead(4480854 bytes read, 163291306 more expected)) will retry\n",
      "2024-09-28 00:31:34,273 - modelscope - WARNING - Downloading: model-00001-of-00004.safetensors failed, reason: ('Connection broken: IncompleteRead(7078531 bytes read, 160693629 more expected)', IncompleteRead(7078531 bytes read, 160693629 more expected)) will retry\n",
      "2024-09-28 00:33:46,457 - modelscope - WARNING - Downloading: model-00001-of-00004.safetensors failed, reason: ('Connection broken: IncompleteRead(4345798 bytes read, 163426362 more expected)', IncompleteRead(4345798 bytes read, 163426362 more expected)) will retry\n",
      "2024-09-28 00:34:06,933 - modelscope - WARNING - Downloading: model-00001-of-00004.safetensors failed, reason: ('Connection broken: IncompleteRead(7250781 bytes read, 160521379 more expected)', IncompleteRead(7250781 bytes read, 160521379 more expected)) will retry\n",
      "2024-09-28 00:36:11,600 - modelscope - WARNING - Downloading: model-00001-of-00004.safetensors failed, reason: ('Connection broken: IncompleteRead(6916390 bytes read, 160855770 more expected)', IncompleteRead(6916390 bytes read, 160855770 more expected)) will retry\n",
      "2024-09-28 00:36:58,901 - modelscope - WARNING - Downloading: model-00001-of-00004.safetensors failed, reason: ('Connection broken: IncompleteRead(7263117 bytes read, 160509043 more expected)', IncompleteRead(7263117 bytes read, 160509043 more expected)) will retry\n",
      "2024-09-28 00:37:36,004 - modelscope - WARNING - Downloading: model-00001-of-00004.safetensors failed, reason: ('Connection broken: IncompleteRead(4216702 bytes read, 163555458 more expected)', IncompleteRead(4216702 bytes read, 163555458 more expected)) will retry\n",
      "2024-09-28 00:38:24,316 - modelscope - WARNING - Downloading: model-00001-of-00004.safetensors failed, reason: ('Connection broken: IncompleteRead(4322245 bytes read, 163449915 more expected)', IncompleteRead(4322245 bytes read, 163449915 more expected)) will retry\n",
      "2024-09-28 00:39:06,623 - modelscope - WARNING - Downloading: model-00001-of-00004.safetensors failed, reason: ('Connection broken: IncompleteRead(4499718 bytes read, 163272442 more expected)', IncompleteRead(4499718 bytes read, 163272442 more expected)) will retry\n",
      "2024-09-28 00:41:00,072 - modelscope - WARNING - Downloading: model-00001-of-00004.safetensors failed, reason: ('Connection broken: IncompleteRead(7349085 bytes read, 160423075 more expected)', IncompleteRead(7349085 bytes read, 160423075 more expected)) will retry\n",
      "2024-09-28 00:41:21,206 - modelscope - WARNING - Downloading: model-00001-of-00004.safetensors failed, reason: ('Connection broken: IncompleteRead(7210286 bytes read, 160561874 more expected)', IncompleteRead(7210286 bytes read, 160561874 more expected)) will retry\n",
      "2024-09-28 00:43:07,735 - modelscope - WARNING - Downloading: model-00001-of-00004.safetensors failed, reason: ('Connection broken: IncompleteRead(6991765 bytes read, 160780395 more expected)', IncompleteRead(6991765 bytes read, 160780395 more expected)) will retry\n"
     ]
    },
    {
     "ename": "MaxRetryError",
     "evalue": "None: Max retries exceeded with url: https://www.modelscope.cn/api/v1/models/Qwen/Qwen2-7B/repo?Revision=master&FilePath=model-00001-of-00004.safetensors (Caused by ChunkedEncodingError(ProtocolError('Connection broken: IncompleteRead(6746816 bytes read, 161025344 more expected)', IncompleteRead(6746816 bytes read, 161025344 more expected))))",
     "output_type": "error",
     "traceback": [
      "\u001b[0;31m---------------------------------------------------------------------------\u001b[0m",
      "\u001b[0;31mIncompleteRead\u001b[0m                            Traceback (most recent call last)",
      "File \u001b[0;32m~/miniconda3/lib/python3.12/site-packages/urllib3/response.py:712\u001b[0m, in \u001b[0;36mHTTPResponse._error_catcher\u001b[0;34m(self)\u001b[0m\n\u001b[1;32m    711\u001b[0m \u001b[38;5;28;01mtry\u001b[39;00m:\n\u001b[0;32m--> 712\u001b[0m     \u001b[38;5;28;01myield\u001b[39;00m\n\u001b[1;32m    714\u001b[0m \u001b[38;5;28;01mexcept\u001b[39;00m SocketTimeout \u001b[38;5;28;01mas\u001b[39;00m e:\n\u001b[1;32m    715\u001b[0m     \u001b[38;5;66;03m# FIXME: Ideally we'd like to include the url in the ReadTimeoutError but\u001b[39;00m\n\u001b[1;32m    716\u001b[0m     \u001b[38;5;66;03m# there is yet no clean way to get at it from this context.\u001b[39;00m\n",
      "File \u001b[0;32m~/miniconda3/lib/python3.12/site-packages/urllib3/response.py:833\u001b[0m, in \u001b[0;36mHTTPResponse._raw_read\u001b[0;34m(self, amt)\u001b[0m\n\u001b[1;32m    823\u001b[0m         \u001b[38;5;28;01mif\u001b[39;00m (\n\u001b[1;32m    824\u001b[0m             \u001b[38;5;28mself\u001b[39m\u001b[38;5;241m.\u001b[39menforce_content_length\n\u001b[1;32m    825\u001b[0m             \u001b[38;5;129;01mand\u001b[39;00m \u001b[38;5;28mself\u001b[39m\u001b[38;5;241m.\u001b[39mlength_remaining \u001b[38;5;129;01mis\u001b[39;00m \u001b[38;5;129;01mnot\u001b[39;00m \u001b[38;5;28;01mNone\u001b[39;00m\n\u001b[0;32m   (...)\u001b[0m\n\u001b[1;32m    831\u001b[0m             \u001b[38;5;66;03m# raised during streaming, so all calls with incorrect\u001b[39;00m\n\u001b[1;32m    832\u001b[0m             \u001b[38;5;66;03m# Content-Length are caught.\u001b[39;00m\n\u001b[0;32m--> 833\u001b[0m             \u001b[38;5;28;01mraise\u001b[39;00m IncompleteRead(\u001b[38;5;28mself\u001b[39m\u001b[38;5;241m.\u001b[39m_fp_bytes_read, \u001b[38;5;28mself\u001b[39m\u001b[38;5;241m.\u001b[39mlength_remaining)\n\u001b[1;32m    835\u001b[0m \u001b[38;5;28;01mif\u001b[39;00m data:\n",
      "\u001b[0;31mIncompleteRead\u001b[0m: IncompleteRead(6746816 bytes read, 161025344 more expected)",
      "\nThe above exception was the direct cause of the following exception:\n",
      "\u001b[0;31mProtocolError\u001b[0m                             Traceback (most recent call last)",
      "File \u001b[0;32m~/miniconda3/lib/python3.12/site-packages/requests/models.py:816\u001b[0m, in \u001b[0;36mResponse.iter_content.<locals>.generate\u001b[0;34m()\u001b[0m\n\u001b[1;32m    815\u001b[0m \u001b[38;5;28;01mtry\u001b[39;00m:\n\u001b[0;32m--> 816\u001b[0m     \u001b[38;5;28;01myield from\u001b[39;00m \u001b[38;5;28mself\u001b[39m\u001b[38;5;241m.\u001b[39mraw\u001b[38;5;241m.\u001b[39mstream(chunk_size, decode_content\u001b[38;5;241m=\u001b[39m\u001b[38;5;28;01mTrue\u001b[39;00m)\n\u001b[1;32m    817\u001b[0m \u001b[38;5;28;01mexcept\u001b[39;00m ProtocolError \u001b[38;5;28;01mas\u001b[39;00m e:\n",
      "File \u001b[0;32m~/miniconda3/lib/python3.12/site-packages/urllib3/response.py:934\u001b[0m, in \u001b[0;36mHTTPResponse.stream\u001b[0;34m(self, amt, decode_content)\u001b[0m\n\u001b[1;32m    933\u001b[0m \u001b[38;5;28;01mwhile\u001b[39;00m \u001b[38;5;129;01mnot\u001b[39;00m is_fp_closed(\u001b[38;5;28mself\u001b[39m\u001b[38;5;241m.\u001b[39m_fp) \u001b[38;5;129;01mor\u001b[39;00m \u001b[38;5;28mlen\u001b[39m(\u001b[38;5;28mself\u001b[39m\u001b[38;5;241m.\u001b[39m_decoded_buffer) \u001b[38;5;241m>\u001b[39m \u001b[38;5;241m0\u001b[39m:\n\u001b[0;32m--> 934\u001b[0m     data \u001b[38;5;241m=\u001b[39m \u001b[38;5;28;43mself\u001b[39;49m\u001b[38;5;241;43m.\u001b[39;49m\u001b[43mread\u001b[49m\u001b[43m(\u001b[49m\u001b[43mamt\u001b[49m\u001b[38;5;241;43m=\u001b[39;49m\u001b[43mamt\u001b[49m\u001b[43m,\u001b[49m\u001b[43m \u001b[49m\u001b[43mdecode_content\u001b[49m\u001b[38;5;241;43m=\u001b[39;49m\u001b[43mdecode_content\u001b[49m\u001b[43m)\u001b[49m\n\u001b[1;32m    936\u001b[0m     \u001b[38;5;28;01mif\u001b[39;00m data:\n",
      "File \u001b[0;32m~/miniconda3/lib/python3.12/site-packages/urllib3/response.py:905\u001b[0m, in \u001b[0;36mHTTPResponse.read\u001b[0;34m(self, amt, decode_content, cache_content)\u001b[0m\n\u001b[1;32m    901\u001b[0m \u001b[38;5;28;01mwhile\u001b[39;00m \u001b[38;5;28mlen\u001b[39m(\u001b[38;5;28mself\u001b[39m\u001b[38;5;241m.\u001b[39m_decoded_buffer) \u001b[38;5;241m<\u001b[39m amt \u001b[38;5;129;01mand\u001b[39;00m data:\n\u001b[1;32m    902\u001b[0m     \u001b[38;5;66;03m# TODO make sure to initially read enough data to get past the headers\u001b[39;00m\n\u001b[1;32m    903\u001b[0m     \u001b[38;5;66;03m# For example, the GZ file header takes 10 bytes, we don't want to read\u001b[39;00m\n\u001b[1;32m    904\u001b[0m     \u001b[38;5;66;03m# it one byte at a time\u001b[39;00m\n\u001b[0;32m--> 905\u001b[0m     data \u001b[38;5;241m=\u001b[39m \u001b[38;5;28;43mself\u001b[39;49m\u001b[38;5;241;43m.\u001b[39;49m\u001b[43m_raw_read\u001b[49m\u001b[43m(\u001b[49m\u001b[43mamt\u001b[49m\u001b[43m)\u001b[49m\n\u001b[1;32m    906\u001b[0m     decoded_data \u001b[38;5;241m=\u001b[39m \u001b[38;5;28mself\u001b[39m\u001b[38;5;241m.\u001b[39m_decode(data, decode_content, flush_decoder)\n",
      "File \u001b[0;32m~/miniconda3/lib/python3.12/site-packages/urllib3/response.py:811\u001b[0m, in \u001b[0;36mHTTPResponse._raw_read\u001b[0;34m(self, amt)\u001b[0m\n\u001b[1;32m    809\u001b[0m fp_closed \u001b[38;5;241m=\u001b[39m \u001b[38;5;28mgetattr\u001b[39m(\u001b[38;5;28mself\u001b[39m\u001b[38;5;241m.\u001b[39m_fp, \u001b[38;5;124m\"\u001b[39m\u001b[38;5;124mclosed\u001b[39m\u001b[38;5;124m\"\u001b[39m, \u001b[38;5;28;01mFalse\u001b[39;00m)\n\u001b[0;32m--> 811\u001b[0m \u001b[43m\u001b[49m\u001b[38;5;28;43;01mwith\u001b[39;49;00m\u001b[43m \u001b[49m\u001b[38;5;28;43mself\u001b[39;49m\u001b[38;5;241;43m.\u001b[39;49m\u001b[43m_error_catcher\u001b[49m\u001b[43m(\u001b[49m\u001b[43m)\u001b[49m\u001b[43m:\u001b[49m\n\u001b[1;32m    812\u001b[0m \u001b[43m    \u001b[49m\u001b[43mdata\u001b[49m\u001b[43m \u001b[49m\u001b[38;5;241;43m=\u001b[39;49m\u001b[43m \u001b[49m\u001b[38;5;28;43mself\u001b[39;49m\u001b[38;5;241;43m.\u001b[39;49m\u001b[43m_fp_read\u001b[49m\u001b[43m(\u001b[49m\u001b[43mamt\u001b[49m\u001b[43m)\u001b[49m\u001b[43m \u001b[49m\u001b[38;5;28;43;01mif\u001b[39;49;00m\u001b[43m \u001b[49m\u001b[38;5;129;43;01mnot\u001b[39;49;00m\u001b[43m \u001b[49m\u001b[43mfp_closed\u001b[49m\u001b[43m \u001b[49m\u001b[38;5;28;43;01melse\u001b[39;49;00m\u001b[43m \u001b[49m\u001b[38;5;124;43mb\u001b[39;49m\u001b[38;5;124;43m\"\u001b[39;49m\u001b[38;5;124;43m\"\u001b[39;49m\n",
      "File \u001b[0;32m~/miniconda3/lib/python3.12/contextlib.py:158\u001b[0m, in \u001b[0;36m_GeneratorContextManager.__exit__\u001b[0;34m(self, typ, value, traceback)\u001b[0m\n\u001b[1;32m    157\u001b[0m \u001b[38;5;28;01mtry\u001b[39;00m:\n\u001b[0;32m--> 158\u001b[0m     \u001b[38;5;28;43mself\u001b[39;49m\u001b[38;5;241;43m.\u001b[39;49m\u001b[43mgen\u001b[49m\u001b[38;5;241;43m.\u001b[39;49m\u001b[43mthrow\u001b[49m\u001b[43m(\u001b[49m\u001b[43mvalue\u001b[49m\u001b[43m)\u001b[49m\n\u001b[1;32m    159\u001b[0m \u001b[38;5;28;01mexcept\u001b[39;00m \u001b[38;5;167;01mStopIteration\u001b[39;00m \u001b[38;5;28;01mas\u001b[39;00m exc:\n\u001b[1;32m    160\u001b[0m     \u001b[38;5;66;03m# Suppress StopIteration *unless* it's the same exception that\u001b[39;00m\n\u001b[1;32m    161\u001b[0m     \u001b[38;5;66;03m# was passed to throw().  This prevents a StopIteration\u001b[39;00m\n\u001b[1;32m    162\u001b[0m     \u001b[38;5;66;03m# raised inside the \"with\" statement from being suppressed.\u001b[39;00m\n",
      "File \u001b[0;32m~/miniconda3/lib/python3.12/site-packages/urllib3/response.py:729\u001b[0m, in \u001b[0;36mHTTPResponse._error_catcher\u001b[0;34m(self)\u001b[0m\n\u001b[1;32m    727\u001b[0m \u001b[38;5;28;01mexcept\u001b[39;00m (HTTPException, \u001b[38;5;167;01mOSError\u001b[39;00m) \u001b[38;5;28;01mas\u001b[39;00m e:\n\u001b[1;32m    728\u001b[0m     \u001b[38;5;66;03m# This includes IncompleteRead.\u001b[39;00m\n\u001b[0;32m--> 729\u001b[0m     \u001b[38;5;28;01mraise\u001b[39;00m ProtocolError(\u001b[38;5;124mf\u001b[39m\u001b[38;5;124m\"\u001b[39m\u001b[38;5;124mConnection broken: \u001b[39m\u001b[38;5;132;01m{\u001b[39;00me\u001b[38;5;132;01m!r}\u001b[39;00m\u001b[38;5;124m\"\u001b[39m, e) \u001b[38;5;28;01mfrom\u001b[39;00m \u001b[38;5;21;01me\u001b[39;00m\n\u001b[1;32m    731\u001b[0m \u001b[38;5;66;03m# If no exception is thrown, we should avoid cleaning up\u001b[39;00m\n\u001b[1;32m    732\u001b[0m \u001b[38;5;66;03m# unnecessarily.\u001b[39;00m\n",
      "\u001b[0;31mProtocolError\u001b[0m: ('Connection broken: IncompleteRead(6746816 bytes read, 161025344 more expected)', IncompleteRead(6746816 bytes read, 161025344 more expected))",
      "\nDuring handling of the above exception, another exception occurred:\n",
      "\u001b[0;31mChunkedEncodingError\u001b[0m                      Traceback (most recent call last)",
      "File \u001b[0;32m~/miniconda3/lib/python3.12/site-packages/modelscope/hub/file_download.py:213\u001b[0m, in \u001b[0;36mdownload_part_with_retry\u001b[0;34m(params)\u001b[0m\n\u001b[1;32m    207\u001b[0m r \u001b[38;5;241m=\u001b[39m requests\u001b[38;5;241m.\u001b[39mget(\n\u001b[1;32m    208\u001b[0m     url,\n\u001b[1;32m    209\u001b[0m     stream\u001b[38;5;241m=\u001b[39m\u001b[38;5;28;01mTrue\u001b[39;00m,\n\u001b[1;32m    210\u001b[0m     headers\u001b[38;5;241m=\u001b[39mget_headers,\n\u001b[1;32m    211\u001b[0m     cookies\u001b[38;5;241m=\u001b[39mcookies,\n\u001b[1;32m    212\u001b[0m     timeout\u001b[38;5;241m=\u001b[39mAPI_FILE_DOWNLOAD_TIMEOUT)\n\u001b[0;32m--> 213\u001b[0m \u001b[43m\u001b[49m\u001b[38;5;28;43;01mfor\u001b[39;49;00m\u001b[43m \u001b[49m\u001b[43mchunk\u001b[49m\u001b[43m \u001b[49m\u001b[38;5;129;43;01min\u001b[39;49;00m\u001b[43m \u001b[49m\u001b[43mr\u001b[49m\u001b[38;5;241;43m.\u001b[39;49m\u001b[43miter_content\u001b[49m\u001b[43m(\u001b[49m\n\u001b[1;32m    214\u001b[0m \u001b[43m        \u001b[49m\u001b[43mchunk_size\u001b[49m\u001b[38;5;241;43m=\u001b[39;49m\u001b[43mAPI_FILE_DOWNLOAD_CHUNK_SIZE\u001b[49m\u001b[43m)\u001b[49m\u001b[43m:\u001b[49m\n\u001b[1;32m    215\u001b[0m \u001b[43m    \u001b[49m\u001b[38;5;28;43;01mif\u001b[39;49;00m\u001b[43m \u001b[49m\u001b[43mchunk\u001b[49m\u001b[43m:\u001b[49m\u001b[43m  \u001b[49m\u001b[38;5;66;43;03m# filter out keep-alive new chunks\u001b[39;49;00m\n",
      "File \u001b[0;32m~/miniconda3/lib/python3.12/site-packages/requests/models.py:818\u001b[0m, in \u001b[0;36mResponse.iter_content.<locals>.generate\u001b[0;34m()\u001b[0m\n\u001b[1;32m    817\u001b[0m \u001b[38;5;28;01mexcept\u001b[39;00m ProtocolError \u001b[38;5;28;01mas\u001b[39;00m e:\n\u001b[0;32m--> 818\u001b[0m     \u001b[38;5;28;01mraise\u001b[39;00m ChunkedEncodingError(e)\n\u001b[1;32m    819\u001b[0m \u001b[38;5;28;01mexcept\u001b[39;00m DecodeError \u001b[38;5;28;01mas\u001b[39;00m e:\n",
      "\u001b[0;31mChunkedEncodingError\u001b[0m: ('Connection broken: IncompleteRead(6746816 bytes read, 161025344 more expected)', IncompleteRead(6746816 bytes read, 161025344 more expected))",
      "\nThe above exception was the direct cause of the following exception:\n",
      "\u001b[0;31mMaxRetryError\u001b[0m                             Traceback (most recent call last)",
      "Cell \u001b[0;32mIn[7], line 3\u001b[0m\n\u001b[1;32m      1\u001b[0m \u001b[38;5;66;03m#模型下载\u001b[39;00m\n\u001b[1;32m      2\u001b[0m \u001b[38;5;28;01mfrom\u001b[39;00m \u001b[38;5;21;01mmodelscope\u001b[39;00m \u001b[38;5;28;01mimport\u001b[39;00m snapshot_download\n\u001b[0;32m----> 3\u001b[0m model_dir \u001b[38;5;241m=\u001b[39m \u001b[43msnapshot_download\u001b[49m\u001b[43m(\u001b[49m\u001b[38;5;124;43m'\u001b[39;49m\u001b[38;5;124;43mQwen/Qwen2-7B\u001b[39;49m\u001b[38;5;124;43m'\u001b[39;49m\u001b[43m,\u001b[49m\u001b[43m \u001b[49m\u001b[43mcache_dir\u001b[49m\u001b[38;5;241;43m=\u001b[39;49m\u001b[38;5;124;43m'\u001b[39;49m\u001b[38;5;124;43m./models/Qwen2-7B\u001b[39;49m\u001b[38;5;124;43m'\u001b[39;49m\u001b[43m)\u001b[49m\n",
      "File \u001b[0;32m~/miniconda3/lib/python3.12/site-packages/modelscope/hub/snapshot_download.py:147\u001b[0m, in \u001b[0;36msnapshot_download\u001b[0;34m(model_id, revision, cache_dir, user_agent, local_files_only, cookies, ignore_file_pattern)\u001b[0m\n\u001b[1;32m    140\u001b[0m url \u001b[38;5;241m=\u001b[39m get_file_download_url(\n\u001b[1;32m    141\u001b[0m     model_id\u001b[38;5;241m=\u001b[39mmodel_id,\n\u001b[1;32m    142\u001b[0m     file_path\u001b[38;5;241m=\u001b[39mmodel_file[\u001b[38;5;124m'\u001b[39m\u001b[38;5;124mPath\u001b[39m\u001b[38;5;124m'\u001b[39m],\n\u001b[1;32m    143\u001b[0m     revision\u001b[38;5;241m=\u001b[39mrevision)\n\u001b[1;32m    145\u001b[0m \u001b[38;5;28;01mif\u001b[39;00m MODELSCOPE_PARALLEL_DOWNLOAD_THRESHOLD_MB \u001b[38;5;241m*\u001b[39m \u001b[38;5;241m1000\u001b[39m \u001b[38;5;241m*\u001b[39m \u001b[38;5;241m1000\u001b[39m \u001b[38;5;241m<\u001b[39m model_file[\n\u001b[1;32m    146\u001b[0m         \u001b[38;5;124m'\u001b[39m\u001b[38;5;124mSize\u001b[39m\u001b[38;5;124m'\u001b[39m] \u001b[38;5;129;01mand\u001b[39;00m MODELSCOPE_DOWNLOAD_PARALLELS \u001b[38;5;241m>\u001b[39m \u001b[38;5;241m1\u001b[39m:\n\u001b[0;32m--> 147\u001b[0m     \u001b[43mparallel_download\u001b[49m\u001b[43m(\u001b[49m\n\u001b[1;32m    148\u001b[0m \u001b[43m        \u001b[49m\u001b[43murl\u001b[49m\u001b[43m,\u001b[49m\n\u001b[1;32m    149\u001b[0m \u001b[43m        \u001b[49m\u001b[43mtemp_cache_dir\u001b[49m\u001b[43m,\u001b[49m\n\u001b[1;32m    150\u001b[0m \u001b[43m        \u001b[49m\u001b[43mmodel_file\u001b[49m\u001b[43m[\u001b[49m\u001b[38;5;124;43m'\u001b[39;49m\u001b[38;5;124;43mName\u001b[39;49m\u001b[38;5;124;43m'\u001b[39;49m\u001b[43m]\u001b[49m\u001b[43m,\u001b[49m\n\u001b[1;32m    151\u001b[0m \u001b[43m        \u001b[49m\u001b[43mheaders\u001b[49m\u001b[38;5;241;43m=\u001b[39;49m\u001b[43mheaders\u001b[49m\u001b[43m,\u001b[49m\n\u001b[1;32m    152\u001b[0m \u001b[43m        \u001b[49m\u001b[43mcookies\u001b[49m\u001b[38;5;241;43m=\u001b[39;49m\u001b[38;5;28;43;01mNone\u001b[39;49;00m\n\u001b[1;32m    153\u001b[0m \u001b[43m        \u001b[49m\u001b[38;5;28;43;01mif\u001b[39;49;00m\u001b[43m \u001b[49m\u001b[43mcookies\u001b[49m\u001b[43m \u001b[49m\u001b[38;5;129;43;01mis\u001b[39;49;00m\u001b[43m \u001b[49m\u001b[38;5;28;43;01mNone\u001b[39;49;00m\u001b[43m \u001b[49m\u001b[38;5;28;43;01melse\u001b[39;49;00m\u001b[43m \u001b[49m\u001b[43mcookies\u001b[49m\u001b[38;5;241;43m.\u001b[39;49m\u001b[43mget_dict\u001b[49m\u001b[43m(\u001b[49m\u001b[43m)\u001b[49m\u001b[43m,\u001b[49m\n\u001b[1;32m    154\u001b[0m \u001b[43m        \u001b[49m\u001b[43mfile_size\u001b[49m\u001b[38;5;241;43m=\u001b[39;49m\u001b[43mmodel_file\u001b[49m\u001b[43m[\u001b[49m\u001b[38;5;124;43m'\u001b[39;49m\u001b[38;5;124;43mSize\u001b[39;49m\u001b[38;5;124;43m'\u001b[39;49m\u001b[43m]\u001b[49m\u001b[43m)\u001b[49m\n\u001b[1;32m    155\u001b[0m \u001b[38;5;28;01melse\u001b[39;00m:\n\u001b[1;32m    156\u001b[0m     http_get_file(\n\u001b[1;32m    157\u001b[0m         url,\n\u001b[1;32m    158\u001b[0m         temp_cache_dir,\n\u001b[1;32m    159\u001b[0m         model_file[\u001b[38;5;124m'\u001b[39m\u001b[38;5;124mName\u001b[39m\u001b[38;5;124m'\u001b[39m],\n\u001b[1;32m    160\u001b[0m         headers\u001b[38;5;241m=\u001b[39mheaders,\n\u001b[1;32m    161\u001b[0m         cookies\u001b[38;5;241m=\u001b[39mcookies)\n",
      "File \u001b[0;32m~/miniconda3/lib/python3.12/site-packages/modelscope/hub/file_download.py:260\u001b[0m, in \u001b[0;36mparallel_download\u001b[0;34m(url, local_dir, file_name, cookies, headers, file_size)\u001b[0m\n\u001b[1;32m    256\u001b[0m     parallels \u001b[38;5;241m=\u001b[39m MODELSCOPE_DOWNLOAD_PARALLELS \u001b[38;5;28;01mif\u001b[39;00m MODELSCOPE_DOWNLOAD_PARALLELS \u001b[38;5;241m<\u001b[39m\u001b[38;5;241m=\u001b[39m \u001b[38;5;241m4\u001b[39m \u001b[38;5;28;01melse\u001b[39;00m \u001b[38;5;241m4\u001b[39m\n\u001b[1;32m    257\u001b[0m     \u001b[38;5;28;01mwith\u001b[39;00m ThreadPoolExecutor(\n\u001b[1;32m    258\u001b[0m             max_workers\u001b[38;5;241m=\u001b[39mparallels,\n\u001b[1;32m    259\u001b[0m             thread_name_prefix\u001b[38;5;241m=\u001b[39m\u001b[38;5;124m'\u001b[39m\u001b[38;5;124mdownload\u001b[39m\u001b[38;5;124m'\u001b[39m) \u001b[38;5;28;01mas\u001b[39;00m executor:\n\u001b[0;32m--> 260\u001b[0m         \u001b[38;5;28;43mlist\u001b[39;49m\u001b[43m(\u001b[49m\u001b[43mexecutor\u001b[49m\u001b[38;5;241;43m.\u001b[39;49m\u001b[43mmap\u001b[49m\u001b[43m(\u001b[49m\u001b[43mdownload_part_with_retry\u001b[49m\u001b[43m,\u001b[49m\u001b[43m \u001b[49m\u001b[43mtasks\u001b[49m\u001b[43m)\u001b[49m\u001b[43m)\u001b[49m\n\u001b[1;32m    262\u001b[0m     progress\u001b[38;5;241m.\u001b[39mclose()\n\u001b[1;32m    264\u001b[0m os\u001b[38;5;241m.\u001b[39mreplace(temp_file\u001b[38;5;241m.\u001b[39mname, os\u001b[38;5;241m.\u001b[39mpath\u001b[38;5;241m.\u001b[39mjoin(local_dir, file_name))\n",
      "File \u001b[0;32m~/miniconda3/lib/python3.12/concurrent/futures/_base.py:619\u001b[0m, in \u001b[0;36mExecutor.map.<locals>.result_iterator\u001b[0;34m()\u001b[0m\n\u001b[1;32m    616\u001b[0m \u001b[38;5;28;01mwhile\u001b[39;00m fs:\n\u001b[1;32m    617\u001b[0m     \u001b[38;5;66;03m# Careful not to keep a reference to the popped future\u001b[39;00m\n\u001b[1;32m    618\u001b[0m     \u001b[38;5;28;01mif\u001b[39;00m timeout \u001b[38;5;129;01mis\u001b[39;00m \u001b[38;5;28;01mNone\u001b[39;00m:\n\u001b[0;32m--> 619\u001b[0m         \u001b[38;5;28;01myield\u001b[39;00m \u001b[43m_result_or_cancel\u001b[49m\u001b[43m(\u001b[49m\u001b[43mfs\u001b[49m\u001b[38;5;241;43m.\u001b[39;49m\u001b[43mpop\u001b[49m\u001b[43m(\u001b[49m\u001b[43m)\u001b[49m\u001b[43m)\u001b[49m\n\u001b[1;32m    620\u001b[0m     \u001b[38;5;28;01melse\u001b[39;00m:\n\u001b[1;32m    621\u001b[0m         \u001b[38;5;28;01myield\u001b[39;00m _result_or_cancel(fs\u001b[38;5;241m.\u001b[39mpop(), end_time \u001b[38;5;241m-\u001b[39m time\u001b[38;5;241m.\u001b[39mmonotonic())\n",
      "File \u001b[0;32m~/miniconda3/lib/python3.12/concurrent/futures/_base.py:317\u001b[0m, in \u001b[0;36m_result_or_cancel\u001b[0;34m(***failed resolving arguments***)\u001b[0m\n\u001b[1;32m    315\u001b[0m \u001b[38;5;28;01mtry\u001b[39;00m:\n\u001b[1;32m    316\u001b[0m     \u001b[38;5;28;01mtry\u001b[39;00m:\n\u001b[0;32m--> 317\u001b[0m         \u001b[38;5;28;01mreturn\u001b[39;00m \u001b[43mfut\u001b[49m\u001b[38;5;241;43m.\u001b[39;49m\u001b[43mresult\u001b[49m\u001b[43m(\u001b[49m\u001b[43mtimeout\u001b[49m\u001b[43m)\u001b[49m\n\u001b[1;32m    318\u001b[0m     \u001b[38;5;28;01mfinally\u001b[39;00m:\n\u001b[1;32m    319\u001b[0m         fut\u001b[38;5;241m.\u001b[39mcancel()\n",
      "File \u001b[0;32m~/miniconda3/lib/python3.12/concurrent/futures/_base.py:456\u001b[0m, in \u001b[0;36mFuture.result\u001b[0;34m(self, timeout)\u001b[0m\n\u001b[1;32m    454\u001b[0m     \u001b[38;5;28;01mraise\u001b[39;00m CancelledError()\n\u001b[1;32m    455\u001b[0m \u001b[38;5;28;01melif\u001b[39;00m \u001b[38;5;28mself\u001b[39m\u001b[38;5;241m.\u001b[39m_state \u001b[38;5;241m==\u001b[39m FINISHED:\n\u001b[0;32m--> 456\u001b[0m     \u001b[38;5;28;01mreturn\u001b[39;00m \u001b[38;5;28;43mself\u001b[39;49m\u001b[38;5;241;43m.\u001b[39;49m\u001b[43m__get_result\u001b[49m\u001b[43m(\u001b[49m\u001b[43m)\u001b[49m\n\u001b[1;32m    457\u001b[0m \u001b[38;5;28;01melse\u001b[39;00m:\n\u001b[1;32m    458\u001b[0m     \u001b[38;5;28;01mraise\u001b[39;00m \u001b[38;5;167;01mTimeoutError\u001b[39;00m()\n",
      "File \u001b[0;32m~/miniconda3/lib/python3.12/concurrent/futures/_base.py:401\u001b[0m, in \u001b[0;36mFuture.__get_result\u001b[0;34m(self)\u001b[0m\n\u001b[1;32m    399\u001b[0m \u001b[38;5;28;01mif\u001b[39;00m \u001b[38;5;28mself\u001b[39m\u001b[38;5;241m.\u001b[39m_exception:\n\u001b[1;32m    400\u001b[0m     \u001b[38;5;28;01mtry\u001b[39;00m:\n\u001b[0;32m--> 401\u001b[0m         \u001b[38;5;28;01mraise\u001b[39;00m \u001b[38;5;28mself\u001b[39m\u001b[38;5;241m.\u001b[39m_exception\n\u001b[1;32m    402\u001b[0m     \u001b[38;5;28;01mfinally\u001b[39;00m:\n\u001b[1;32m    403\u001b[0m         \u001b[38;5;66;03m# Break a reference cycle with the exception in self._exception\u001b[39;00m\n\u001b[1;32m    404\u001b[0m         \u001b[38;5;28mself\u001b[39m \u001b[38;5;241m=\u001b[39m \u001b[38;5;28;01mNone\u001b[39;00m\n",
      "File \u001b[0;32m~/miniconda3/lib/python3.12/concurrent/futures/thread.py:58\u001b[0m, in \u001b[0;36m_WorkItem.run\u001b[0;34m(self)\u001b[0m\n\u001b[1;32m     55\u001b[0m     \u001b[38;5;28;01mreturn\u001b[39;00m\n\u001b[1;32m     57\u001b[0m \u001b[38;5;28;01mtry\u001b[39;00m:\n\u001b[0;32m---> 58\u001b[0m     result \u001b[38;5;241m=\u001b[39m \u001b[38;5;28;43mself\u001b[39;49m\u001b[38;5;241;43m.\u001b[39;49m\u001b[43mfn\u001b[49m\u001b[43m(\u001b[49m\u001b[38;5;241;43m*\u001b[39;49m\u001b[38;5;28;43mself\u001b[39;49m\u001b[38;5;241;43m.\u001b[39;49m\u001b[43margs\u001b[49m\u001b[43m,\u001b[49m\u001b[43m \u001b[49m\u001b[38;5;241;43m*\u001b[39;49m\u001b[38;5;241;43m*\u001b[39;49m\u001b[38;5;28;43mself\u001b[39;49m\u001b[38;5;241;43m.\u001b[39;49m\u001b[43mkwargs\u001b[49m\u001b[43m)\u001b[49m\n\u001b[1;32m     59\u001b[0m \u001b[38;5;28;01mexcept\u001b[39;00m \u001b[38;5;167;01mBaseException\u001b[39;00m \u001b[38;5;28;01mas\u001b[39;00m exc:\n\u001b[1;32m     60\u001b[0m     \u001b[38;5;28mself\u001b[39m\u001b[38;5;241m.\u001b[39mfuture\u001b[38;5;241m.\u001b[39mset_exception(exc)\n",
      "File \u001b[0;32m~/miniconda3/lib/python3.12/site-packages/modelscope/hub/file_download.py:220\u001b[0m, in \u001b[0;36mdownload_part_with_retry\u001b[0;34m(params)\u001b[0m\n\u001b[1;32m    218\u001b[0m     \u001b[38;5;28;01mbreak\u001b[39;00m\n\u001b[1;32m    219\u001b[0m \u001b[38;5;28;01mexcept\u001b[39;00m (\u001b[38;5;167;01mException\u001b[39;00m) \u001b[38;5;28;01mas\u001b[39;00m e:  \u001b[38;5;66;03m# no matter what exception, we will retry.\u001b[39;00m\n\u001b[0;32m--> 220\u001b[0m     retry \u001b[38;5;241m=\u001b[39m \u001b[43mretry\u001b[49m\u001b[38;5;241;43m.\u001b[39;49m\u001b[43mincrement\u001b[49m\u001b[43m(\u001b[49m\u001b[38;5;124;43m'\u001b[39;49m\u001b[38;5;124;43mGET\u001b[39;49m\u001b[38;5;124;43m'\u001b[39;49m\u001b[43m,\u001b[49m\u001b[43m \u001b[49m\u001b[43murl\u001b[49m\u001b[43m,\u001b[49m\u001b[43m \u001b[49m\u001b[43merror\u001b[49m\u001b[38;5;241;43m=\u001b[39;49m\u001b[43me\u001b[49m\u001b[43m)\u001b[49m\n\u001b[1;32m    221\u001b[0m     logger\u001b[38;5;241m.\u001b[39mwarning(\u001b[38;5;124m'\u001b[39m\u001b[38;5;124mDownloading: \u001b[39m\u001b[38;5;132;01m%s\u001b[39;00m\u001b[38;5;124m failed, reason: \u001b[39m\u001b[38;5;132;01m%s\u001b[39;00m\u001b[38;5;124m will retry\u001b[39m\u001b[38;5;124m'\u001b[39m \u001b[38;5;241m%\u001b[39m\n\u001b[1;32m    222\u001b[0m                    (model_file_name, e))\n\u001b[1;32m    223\u001b[0m     retry\u001b[38;5;241m.\u001b[39msleep()\n",
      "File \u001b[0;32m~/miniconda3/lib/python3.12/site-packages/urllib3/util/retry.py:515\u001b[0m, in \u001b[0;36mRetry.increment\u001b[0;34m(self, method, url, response, error, _pool, _stacktrace)\u001b[0m\n\u001b[1;32m    513\u001b[0m \u001b[38;5;28;01mif\u001b[39;00m new_retry\u001b[38;5;241m.\u001b[39mis_exhausted():\n\u001b[1;32m    514\u001b[0m     reason \u001b[38;5;241m=\u001b[39m error \u001b[38;5;129;01mor\u001b[39;00m ResponseError(cause)\n\u001b[0;32m--> 515\u001b[0m     \u001b[38;5;28;01mraise\u001b[39;00m MaxRetryError(_pool, url, reason) \u001b[38;5;28;01mfrom\u001b[39;00m \u001b[38;5;21;01mreason\u001b[39;00m  \u001b[38;5;66;03m# type: ignore[arg-type]\u001b[39;00m\n\u001b[1;32m    517\u001b[0m log\u001b[38;5;241m.\u001b[39mdebug(\u001b[38;5;124m\"\u001b[39m\u001b[38;5;124mIncremented Retry for (url=\u001b[39m\u001b[38;5;124m'\u001b[39m\u001b[38;5;132;01m%s\u001b[39;00m\u001b[38;5;124m'\u001b[39m\u001b[38;5;124m): \u001b[39m\u001b[38;5;132;01m%r\u001b[39;00m\u001b[38;5;124m\"\u001b[39m, url, new_retry)\n\u001b[1;32m    519\u001b[0m \u001b[38;5;28;01mreturn\u001b[39;00m new_retry\n",
      "\u001b[0;31mMaxRetryError\u001b[0m: None: Max retries exceeded with url: https://www.modelscope.cn/api/v1/models/Qwen/Qwen2-7B/repo?Revision=master&FilePath=model-00001-of-00004.safetensors (Caused by ChunkedEncodingError(ProtocolError('Connection broken: IncompleteRead(6746816 bytes read, 161025344 more expected)', IncompleteRead(6746816 bytes read, 161025344 more expected))))"
     ]
    }
   ],
   "source": [
    "#模型下载\n",
    "from modelscope import snapshot_download\n",
    "model_dir = snapshot_download('Qwen/Qwen2-7B', cache_dir='./models/Qwen2-7B')"
   ]
  },
  {
   "cell_type": "code",
   "execution_count": 47,
   "id": "a1955a9b-e5c6-48c2-8b69-91e078e88562",
   "metadata": {
    "pycharm": {
     "name": "#%%\n"
    }
   },
   "outputs": [],
   "source": []
  },
  {
   "cell_type": "code",
   "execution_count": 48,
   "id": "546b3dca-c77f-4a92-a51e-60fdd99d2565",
   "metadata": {
    "pycharm": {
     "name": "#%%\n"
    }
   },
   "outputs": [],
   "source": []
  },
  {
   "cell_type": "code",
   "execution_count": 54,
   "id": "64819aed-7772-4db5-8ed4-09254a6f0f22",
   "metadata": {
    "pycharm": {
     "name": "#%%\n"
    }
   },
   "outputs": [],
   "source": []
  },
  {
   "cell_type": "code",
   "execution_count": null,
   "id": "0a00ca77-0acd-4d12-8198-81483f7ab61a",
   "metadata": {
    "pycharm": {
     "name": "#%%\n"
    }
   },
   "outputs": [],
   "source": []
  }
 ],
 "metadata": {
  "kernelspec": {
   "display_name": "Python 3 (ipykernel)",
   "language": "python",
   "name": "python3"
  },
  "language_info": {
   "codemirror_mode": {
    "name": "ipython",
    "version": 3
   },
   "file_extension": ".py",
   "mimetype": "text/x-python",
   "name": "python",
   "nbconvert_exporter": "python",
   "pygments_lexer": "ipython3",
   "version": "3.12.2"
  }
 },
 "nbformat": 4,
 "nbformat_minor": 5
}
