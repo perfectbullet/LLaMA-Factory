{
 "cells": [
  {
   "cell_type": "code",
   "execution_count": 1,
   "id": "8d7304cf-d495-46a6-aee2-5f054e28188b",
   "metadata": {
    "pycharm": {
     "name": "#%%\n"
    }
   },
   "outputs": [],
   "source": [
    "import torch"
   ]
  },
  {
   "cell_type": "code",
   "execution_count": 2,
   "id": "61c1f13b-96db-4d30-bc12-11a2a6711d6b",
   "metadata": {
    "pycharm": {
     "name": "#%%\n"
    }
   },
   "outputs": [
    {
     "data": {
      "text/plain": [
       "<function torch.cuda.is_available() -> bool>"
      ]
     },
     "execution_count": 2,
     "metadata": {},
     "output_type": "execute_result"
    }
   ],
   "source": [
    "torch.cuda.is_available"
   ]
  },
  {
   "cell_type": "code",
   "execution_count": 4,
   "id": "8f5f1c52-edb7-4a20-8da6-02825504608a",
   "metadata": {
    "pycharm": {
     "name": "#%%\n"
    }
   },
   "outputs": [
    {
     "name": "stderr",
     "output_type": "stream",
     "text": [
      "Downloading: 100%|██████████████████████████████████████████████████████████████████████████████████████████████████████████████████████████████████████| 654/654 [00:00<00:00, 1.90kB/s]\n",
      "Downloading: 100%|██████████████████████████████████████████████████████████████████████████████████████████████████████████████████████████████████████| 48.0/48.0 [00:00<00:00, 140B/s]\n",
      "Downloading: 100%|████████████████████████████████████████████████████████████████████████████████████████████████████████████████████████████████████████| 177/177 [00:00<00:00, 544B/s]\n",
      "Downloading: 100%|██████████████████████████████████████████████████████████████████████████████████████████████████████████████████████████████████| 7.62k/7.62k [00:00<00:00, 21.9kB/s]\n",
      "Downloading: 100%|██████████████████████████████████████████████████████████████████████████████████████████████████████████████████████████████████| 4.63G/4.63G [15:36<00:00, 5.31MB/s]\n",
      "Downloading: 100%|██████████████████████████████████████████████████████████████████████████████████████████████████████████████████████████████████| 4.66G/4.66G [15:50<00:00, 5.26MB/s]\n",
      "Downloading:  47%|████████████████████████████████████████████████████████████▍                                                                     | 2.13G/4.58G [07:03<07:51, 5.57MB/s]2024-07-30 17:01:22,296 - modelscope - WARNING - Downloading: ./models/Meta-Llama-3-8B/._____temp/model-00003-of-00004.safetensors failed, reason: HTTPSConnectionPool(host='www.modelscope.cn', port=443): Read timed out. will retry\n",
      "Downloading: 4.58GB [14:59, 5.47MB/s]                                                                                                                                                    \n",
      "Downloading: 100%|██████████████████████████████████████████████████████████████████████████████████████████████████████████████████████████████████| 1.09G/1.09G [03:38<00:00, 5.33MB/s]\n",
      "Downloading: 100%|██████████████████████████████████████████████████████████████████████████████████████████████████████████████████████████████████| 23.4k/23.4k [00:00<00:00, 65.0kB/s]\n",
      "Downloading: 100%|██████████████████████████████████████████████████████████████████████████████████████████████████████████████████████████████████| 35.7k/35.7k [00:00<00:00, 77.3kB/s]\n",
      "Downloading: 100%|██████████████████████████████████████████████████████████████████████████████████████████████████████████████████████████████████████| 73.0/73.0 [00:00<00:00, 190B/s]\n",
      "Downloading: 100%|██████████████████████████████████████████████████████████████████████████████████████████████████████████████████████████████████| 8.66M/8.66M [00:01<00:00, 6.65MB/s]\n",
      "Downloading: 100%|██████████████████████████████████████████████████████████████████████████████████████████████████████████████████████████████████| 49.4k/49.4k [00:00<00:00, 78.2kB/s]\n",
      "Downloading: 100%|██████████████████████████████████████████████████████████████████████████████████████████████████████████████████████████████████| 4.59k/4.59k [00:00<00:00, 11.6kB/s]\n"
     ]
    }
   ],
   "source": [
    "# #模型下载\n",
    "# from modelscope import snapshot_download\n",
    "# #模型下载\n",
    "# from modelscope import snapshot_download\n",
    "# model_dir = snapshot_download('qwen/Qwen2-7B-Instruct', local_dir='./models/Qwen2-7B-Instruct')\n",
    "\n",
    "\n",
    "#模型下载\n",
    "# from modelscope import snapshot_download\n",
    "# model_dir = snapshot_download('LLM-Research/Meta-Llama-3-8B', local_dir='./models/Meta-Llama-3-8B')\n",
    "\n",
    "\n",
    "#模型下载\n",
    "from modelscope import snapshot_download\n",
    "# model_dir = snapshot_download('LLM-Research/Llama3-8B-Chinese', local_dir='./models/Llama3-8B-Chinese')\n",
    "\n",
    "#模型下载\n",
    "from modelscope import snapshot_download\n",
    "model_dir = snapshot_download('LLM-Research/Meta-Llama-3-8B', local_dir='./models/Meta-Llama-3-8B')"
   ]
  },
  {
   "cell_type": "code",
   "execution_count": 1,
   "id": "db714b9c-a901-461e-b382-ece7e538d5f0",
   "metadata": {
    "scrolled": true,
    "pycharm": {
     "name": "#%%\n"
    }
   },
   "outputs": [
    {
     "name": "stderr",
     "output_type": "stream",
     "text": [
      "Downloading: 100%|██████████████████████████████████████████████████████████████████████████████████████████████████████████████████████████████████████| 654/654 [00:00<00:00, 1.96kB/s]\n",
      "Downloading: 100%|██████████████████████████████████████████████████████████████████████████████████████████████████████████████████████████████████████| 48.0/48.0 [00:00<00:00, 133B/s]\n",
      "Downloading: 100%|████████████████████████████████████████████████████████████████████████████████████████████████████████████████████████████████████████| 187/187 [00:00<00:00, 420B/s]\n",
      "Downloading: 100%|██████████████████████████████████████████████████████████████████████████████████████████████████████████████████████████████████| 7.62k/7.62k [00:00<00:00, 21.2kB/s]\n",
      "Downloading:  16%|████████████████████▉                                                                                                              | 757M/4.63G [02:18<13:00, 5.36MB/s]2024-07-19 17:52:13,240 - modelscope - WARNING - Downloading: ./models/Meta-Llama-3-8B-Instruct/._____temp/model-00001-of-00004.safetensors failed, reason: ('Connection broken: IncompleteRead(64228928 bytes read, 103543232 more expected)', IncompleteRead(64228928 bytes read, 103543232 more expected)) will retry\n",
      "Downloading: 4.69GB [14:06, 5.95MB/s]                                                                                                                                                    \n",
      "Downloading:  46%|███████████████████████████████████████████████████████████▊                                                                      | 2.14G/4.66G [06:57<07:23, 6.09MB/s]IOPub message rate exceeded.\n",
      "The Jupyter server will temporarily stop sending output\n",
      "to the client in order to avoid crashing it.\n",
      "To change this limit, set the config variable\n",
      "`--ServerApp.iopub_msg_rate_limit`.\n",
      "\n",
      "Current values:\n",
      "ServerApp.iopub_msg_rate_limit=1000.0 (msgs/sec)\n",
      "ServerApp.rate_limit_window=3.0 (secs)\n",
      "\n"
     ]
    }
   ],
   "source": [
    "# model_dir = snapshot_download('qwen/Qwen-7B', local_dir='./models')\n",
    "\n",
    "#模型下载\n",
    "# from modelscope import snapshot_download\n",
    "# model_dir = snapshot_download('qwen/Qwen-7B-Chat', local_dir='./models/Qwen-7B-Chat')\n",
    "\n",
    "\n",
    "#模型下载\n",
    "from modelscope import snapshot_download\n",
    "model_dir = snapshot_download('LLM-Research/Meta-Llama-3-8B-Instruct', local_dir='./models/Meta-Llama-3-8B-Instruct')\n"
   ]
  },
  {
   "cell_type": "code",
   "execution_count": 56,
   "id": "7fd105b3-abd9-40ab-8bbd-bfee854dded5",
   "metadata": {
    "pycharm": {
     "name": "#%%\n"
    }
   },
   "outputs": [
    {
     "name": "stdout",
     "output_type": "stream",
     "text": [
      "Looking in indexes: https://pypi.tuna.tsinghua.edu.cn/simple\n",
      "Collecting datasets==2.16.0\n",
      "  Downloading https://pypi.tuna.tsinghua.edu.cn/packages/a0/93/da8a22a292e51ab76f969eb87bda8fd70cc3963b4dd71f67bb92a70a7992/datasets-2.16.0-py3-none-any.whl (507 kB)\n",
      "\u001B[2K     \u001B[38;2;114;156;31m━━━━━━━━━━━━━━━━━━━━━━━━━━━━━━━━━━━━━━━\u001B[0m \u001B[32m507.1/507.1 kB\u001B[0m \u001B[31m1.2 MB/s\u001B[0m eta \u001B[36m0:00:00\u001B[0m MB/s\u001B[0m eta \u001B[36m0:00:01\u001B[0m:01\u001B[0m\n",
      "\u001B[?25hRequirement already satisfied: filelock in /home/ubuntu/miniconda3/envs/llmfactory/lib/python3.10/site-packages (from datasets==2.16.0) (3.14.0)\n",
      "Requirement already satisfied: numpy>=1.17 in /home/ubuntu/miniconda3/envs/llmfactory/lib/python3.10/site-packages (from datasets==2.16.0) (1.26.4)\n",
      "Requirement already satisfied: pyarrow>=8.0.0 in /home/ubuntu/miniconda3/envs/llmfactory/lib/python3.10/site-packages (from datasets==2.16.0) (16.1.0)\n",
      "Requirement already satisfied: pyarrow-hotfix in /home/ubuntu/miniconda3/envs/llmfactory/lib/python3.10/site-packages (from datasets==2.16.0) (0.6)\n",
      "Collecting dill<0.3.8,>=0.3.0 (from datasets==2.16.0)\n",
      "  Downloading https://pypi.tuna.tsinghua.edu.cn/packages/f5/3a/74a29b11cf2cdfcd6ba89c0cecd70b37cd1ba7b77978ce611eb7a146a832/dill-0.3.7-py3-none-any.whl (115 kB)\n",
      "\u001B[2K     \u001B[38;2;114;156;31m━━━━━━━━━━━━━━━━━━━━━━━━━━━━━━━━━━━━━\u001B[0m \u001B[32m115.3/115.3 kB\u001B[0m \u001B[31m646.7 kB/s\u001B[0m eta \u001B[36m0:00:00\u001B[0m[36m0:00:01\u001B[0mm eta \u001B[36m0:00:01\u001B[0m\n",
      "\u001B[?25hRequirement already satisfied: pandas in /home/ubuntu/miniconda3/envs/llmfactory/lib/python3.10/site-packages (from datasets==2.16.0) (2.2.2)\n",
      "Requirement already satisfied: requests>=2.19.0 in /home/ubuntu/miniconda3/envs/llmfactory/lib/python3.10/site-packages (from datasets==2.16.0) (2.32.0)\n",
      "Requirement already satisfied: tqdm>=4.62.1 in /home/ubuntu/miniconda3/envs/llmfactory/lib/python3.10/site-packages (from datasets==2.16.0) (4.66.4)\n",
      "Requirement already satisfied: xxhash in /home/ubuntu/miniconda3/envs/llmfactory/lib/python3.10/site-packages (from datasets==2.16.0) (3.4.1)\n",
      "Requirement already satisfied: multiprocess in /home/ubuntu/miniconda3/envs/llmfactory/lib/python3.10/site-packages (from datasets==2.16.0) (0.70.16)\n",
      "Collecting fsspec<=2023.10.0,>=2023.1.0 (from fsspec[http]<=2023.10.0,>=2023.1.0->datasets==2.16.0)\n",
      "  Downloading https://pypi.tuna.tsinghua.edu.cn/packages/e8/f6/3eccfb530aac90ad1301c582da228e4763f19e719ac8200752a4841b0b2d/fsspec-2023.10.0-py3-none-any.whl (166 kB)\n",
      "\u001B[2K     \u001B[38;2;114;156;31m━━━━━━━━━━━━━━━━━━━━━━━━━━━━━━━━━━━━━━━\u001B[0m \u001B[32m166.4/166.4 kB\u001B[0m \u001B[31m2.7 MB/s\u001B[0m eta \u001B[36m0:00:00\u001B[0m[31m4.0 MB/s\u001B[0m eta \u001B[36m0:00:01\u001B[0m\n",
      "\u001B[?25hRequirement already satisfied: aiohttp in /home/ubuntu/miniconda3/envs/llmfactory/lib/python3.10/site-packages (from datasets==2.16.0) (3.9.5)\n",
      "Requirement already satisfied: huggingface-hub>=0.19.4 in /home/ubuntu/miniconda3/envs/llmfactory/lib/python3.10/site-packages (from datasets==2.16.0) (0.23.4)\n",
      "Requirement already satisfied: packaging in /home/ubuntu/miniconda3/envs/llmfactory/lib/python3.10/site-packages (from datasets==2.16.0) (24.0)\n",
      "Requirement already satisfied: pyyaml>=5.1 in /home/ubuntu/miniconda3/envs/llmfactory/lib/python3.10/site-packages (from datasets==2.16.0) (6.0.1)\n",
      "Requirement already satisfied: aiosignal>=1.1.2 in /home/ubuntu/miniconda3/envs/llmfactory/lib/python3.10/site-packages (from aiohttp->datasets==2.16.0) (1.3.1)\n",
      "Requirement already satisfied: attrs>=17.3.0 in /home/ubuntu/miniconda3/envs/llmfactory/lib/python3.10/site-packages (from aiohttp->datasets==2.16.0) (23.2.0)\n",
      "Requirement already satisfied: frozenlist>=1.1.1 in /home/ubuntu/miniconda3/envs/llmfactory/lib/python3.10/site-packages (from aiohttp->datasets==2.16.0) (1.4.1)\n",
      "Requirement already satisfied: multidict<7.0,>=4.5 in /home/ubuntu/miniconda3/envs/llmfactory/lib/python3.10/site-packages (from aiohttp->datasets==2.16.0) (6.0.5)\n",
      "Requirement already satisfied: yarl<2.0,>=1.0 in /home/ubuntu/miniconda3/envs/llmfactory/lib/python3.10/site-packages (from aiohttp->datasets==2.16.0) (1.9.4)\n",
      "Requirement already satisfied: async-timeout<5.0,>=4.0 in /home/ubuntu/miniconda3/envs/llmfactory/lib/python3.10/site-packages (from aiohttp->datasets==2.16.0) (4.0.3)\n",
      "Requirement already satisfied: typing-extensions>=3.7.4.3 in /home/ubuntu/miniconda3/envs/llmfactory/lib/python3.10/site-packages (from huggingface-hub>=0.19.4->datasets==2.16.0) (4.11.0)\n",
      "Requirement already satisfied: charset-normalizer<4,>=2 in /home/ubuntu/miniconda3/envs/llmfactory/lib/python3.10/site-packages (from requests>=2.19.0->datasets==2.16.0) (3.3.2)\n",
      "Requirement already satisfied: idna<4,>=2.5 in /home/ubuntu/miniconda3/envs/llmfactory/lib/python3.10/site-packages (from requests>=2.19.0->datasets==2.16.0) (3.7)\n",
      "Requirement already satisfied: urllib3<3,>=1.21.1 in /home/ubuntu/miniconda3/envs/llmfactory/lib/python3.10/site-packages (from requests>=2.19.0->datasets==2.16.0) (2.2.1)\n",
      "Requirement already satisfied: certifi>=2017.4.17 in /home/ubuntu/miniconda3/envs/llmfactory/lib/python3.10/site-packages (from requests>=2.19.0->datasets==2.16.0) (2024.2.2)\n",
      "INFO: pip is looking at multiple versions of multiprocess to determine which version is compatible with other requirements. This could take a while.\n",
      "Collecting multiprocess (from datasets==2.16.0)\n",
      "  Downloading https://pypi.tuna.tsinghua.edu.cn/packages/35/a8/36d8d7b3e46b377800d8dec47891cdf05842d1a2366909ae4a0c89fbc5e6/multiprocess-0.70.15-py310-none-any.whl (134 kB)\n",
      "\u001B[2K     \u001B[38;2;114;156;31m━━━━━━━━━━━━━━━━━━━━━━━━━━━━━━━━━━━━━━━\u001B[0m \u001B[32m134.8/134.8 kB\u001B[0m \u001B[31m1.3 MB/s\u001B[0m eta \u001B[36m0:00:00\u001B[0m kB/s\u001B[0m eta \u001B[36m0:00:01\u001B[0m\n",
      "\u001B[?25hRequirement already satisfied: python-dateutil>=2.8.2 in /home/ubuntu/miniconda3/envs/llmfactory/lib/python3.10/site-packages (from pandas->datasets==2.16.0) (2.9.0)\n",
      "Requirement already satisfied: pytz>=2020.1 in /home/ubuntu/miniconda3/envs/llmfactory/lib/python3.10/site-packages (from pandas->datasets==2.16.0) (2024.1)\n",
      "Requirement already satisfied: tzdata>=2022.7 in /home/ubuntu/miniconda3/envs/llmfactory/lib/python3.10/site-packages (from pandas->datasets==2.16.0) (2024.1)\n",
      "Requirement already satisfied: six>=1.5 in /home/ubuntu/miniconda3/envs/llmfactory/lib/python3.10/site-packages (from python-dateutil>=2.8.2->pandas->datasets==2.16.0) (1.16.0)\n",
      "Installing collected packages: fsspec, dill, multiprocess, datasets\n",
      "  Attempting uninstall: fsspec\n",
      "    Found existing installation: fsspec 2024.3.1\n",
      "    Uninstalling fsspec-2024.3.1:\n",
      "      Successfully uninstalled fsspec-2024.3.1\n",
      "  Attempting uninstall: dill\n",
      "    Found existing installation: dill 0.3.8\n",
      "    Uninstalling dill-0.3.8:\n",
      "      Successfully uninstalled dill-0.3.8\n",
      "  Attempting uninstall: multiprocess\n",
      "    Found existing installation: multiprocess 0.70.16\n",
      "    Uninstalling multiprocess-0.70.16:\n",
      "      Successfully uninstalled multiprocess-0.70.16\n",
      "  Attempting uninstall: datasets\n",
      "    Found existing installation: datasets 2.19.1\n",
      "    Uninstalling datasets-2.19.1:\n",
      "      Successfully uninstalled datasets-2.19.1\n",
      "Successfully installed datasets-2.16.0 dill-0.3.7 fsspec-2023.10.0 multiprocess-0.70.15\n"
     ]
    }
   ],
   "source": [
    "!pip install datasets==2.16.0 "
   ]
  },
  {
   "cell_type": "code",
   "execution_count": 60,
   "id": "a9c57b82-4858-4e51-bf4a-d0a429e1aa12",
   "metadata": {
    "pycharm": {
     "name": "#%%\n"
    }
   },
   "outputs": [
    {
     "name": "stderr",
     "output_type": "stream",
     "text": [
      "2024-07-11 17:44:15,966 - modelscope - ERROR - The request model: Robin021/DISC-Law-SFT does not exist!\n"
     ]
    },
    {
     "ename": "HTTPError",
     "evalue": "The request model: Robin021/DISC-Law-SFT does not exist!",
     "output_type": "error",
     "traceback": [
      "\u001B[0;31m---------------------------------------------------------------------------\u001B[0m",
      "\u001B[0;31mHTTPError\u001B[0m                                 Traceback (most recent call last)",
      "Cell \u001B[0;32mIn[60], line 2\u001B[0m\n\u001B[1;32m      1\u001B[0m \u001B[38;5;66;03m# model_dir = snapshot_download('qwen/Qwen-7B', local_dir='./models')\u001B[39;00m\n\u001B[0;32m----> 2\u001B[0m model_dir2 \u001B[38;5;241m=\u001B[39m  \u001B[43msnapshot_download\u001B[49m\u001B[43m(\u001B[49m\u001B[38;5;124;43m'\u001B[39;49m\u001B[38;5;124;43mRobin021/DISC-Law-SFT\u001B[39;49m\u001B[38;5;124;43m'\u001B[39;49m\u001B[43m,\u001B[49m\u001B[43m \u001B[49m\u001B[43mlocal_dir\u001B[49m\u001B[38;5;241;43m=\u001B[39;49m\u001B[38;5;124;43m'\u001B[39;49m\u001B[38;5;124;43m./models/DISC-Law-SFT\u001B[39;49m\u001B[38;5;124;43m'\u001B[39;49m\u001B[43m)\u001B[49m\n",
      "File \u001B[0;32m~/miniconda3/envs/llmfactory/lib/python3.10/site-packages/modelscope/hub/snapshot_download.py:95\u001B[0m, in \u001B[0;36msnapshot_download\u001B[0;34m(model_id, revision, cache_dir, user_agent, local_files_only, cookies, ignore_file_pattern, allow_file_pattern, local_dir)\u001B[0m\n\u001B[1;32m     93\u001B[0m \u001B[38;5;28;01mif\u001B[39;00m cookies \u001B[38;5;129;01mis\u001B[39;00m \u001B[38;5;28;01mNone\u001B[39;00m:\n\u001B[1;32m     94\u001B[0m     cookies \u001B[38;5;241m=\u001B[39m ModelScopeConfig\u001B[38;5;241m.\u001B[39mget_cookies()\n\u001B[0;32m---> 95\u001B[0m revision_detail \u001B[38;5;241m=\u001B[39m \u001B[43m_api\u001B[49m\u001B[38;5;241;43m.\u001B[39;49m\u001B[43mget_valid_revision_detail\u001B[49m\u001B[43m(\u001B[49m\n\u001B[1;32m     96\u001B[0m \u001B[43m    \u001B[49m\u001B[43mmodel_id\u001B[49m\u001B[43m,\u001B[49m\u001B[43m \u001B[49m\u001B[43mrevision\u001B[49m\u001B[38;5;241;43m=\u001B[39;49m\u001B[43mrevision\u001B[49m\u001B[43m,\u001B[49m\u001B[43m \u001B[49m\u001B[43mcookies\u001B[49m\u001B[38;5;241;43m=\u001B[39;49m\u001B[43mcookies\u001B[49m\u001B[43m)\u001B[49m\n\u001B[1;32m     97\u001B[0m revision \u001B[38;5;241m=\u001B[39m revision_detail[\u001B[38;5;124m'\u001B[39m\u001B[38;5;124mRevision\u001B[39m\u001B[38;5;124m'\u001B[39m]\n\u001B[1;32m     99\u001B[0m snapshot_header \u001B[38;5;241m=\u001B[39m headers \u001B[38;5;28;01mif\u001B[39;00m \u001B[38;5;124m'\u001B[39m\u001B[38;5;124mCI_TEST\u001B[39m\u001B[38;5;124m'\u001B[39m \u001B[38;5;129;01min\u001B[39;00m os\u001B[38;5;241m.\u001B[39menviron \u001B[38;5;28;01melse\u001B[39;00m {\n\u001B[1;32m    100\u001B[0m     \u001B[38;5;241m*\u001B[39m\u001B[38;5;241m*\u001B[39mheaders,\n\u001B[1;32m    101\u001B[0m     \u001B[38;5;241m*\u001B[39m\u001B[38;5;241m*\u001B[39m{\n\u001B[1;32m    102\u001B[0m         \u001B[38;5;124m'\u001B[39m\u001B[38;5;124mSnapshot\u001B[39m\u001B[38;5;124m'\u001B[39m: \u001B[38;5;124m'\u001B[39m\u001B[38;5;124mTrue\u001B[39m\u001B[38;5;124m'\u001B[39m\n\u001B[1;32m    103\u001B[0m     }\n\u001B[1;32m    104\u001B[0m }\n",
      "File \u001B[0;32m~/miniconda3/envs/llmfactory/lib/python3.10/site-packages/modelscope/hub/api.py:498\u001B[0m, in \u001B[0;36mHubApi.get_valid_revision_detail\u001B[0;34m(self, model_id, revision, cookies)\u001B[0m\n\u001B[1;32m    494\u001B[0m current_timestamp \u001B[38;5;241m=\u001B[39m \u001B[38;5;28mint\u001B[39m(\u001B[38;5;28mround\u001B[39m(datetime\u001B[38;5;241m.\u001B[39mdatetime\u001B[38;5;241m.\u001B[39mnow()\u001B[38;5;241m.\u001B[39mtimestamp()))\n\u001B[1;32m    495\u001B[0m \u001B[38;5;66;03m# for active development in library codes (non-release-branches), release_timestamp\u001B[39;00m\n\u001B[1;32m    496\u001B[0m \u001B[38;5;66;03m# is set to be a far-away-time-in-the-future, to ensure that we shall\u001B[39;00m\n\u001B[1;32m    497\u001B[0m \u001B[38;5;66;03m# get the master-HEAD version from model repo by default (when no revision is provided)\u001B[39;00m\n\u001B[0;32m--> 498\u001B[0m all_branches_detail, all_tags_detail \u001B[38;5;241m=\u001B[39m \u001B[38;5;28;43mself\u001B[39;49m\u001B[38;5;241;43m.\u001B[39;49m\u001B[43mget_model_branches_and_tags_details\u001B[49m\u001B[43m(\u001B[49m\n\u001B[1;32m    499\u001B[0m \u001B[43m    \u001B[49m\u001B[43mmodel_id\u001B[49m\u001B[43m,\u001B[49m\u001B[43m \u001B[49m\u001B[43muse_cookies\u001B[49m\u001B[38;5;241;43m=\u001B[39;49m\u001B[38;5;28;43;01mFalse\u001B[39;49;00m\u001B[43m \u001B[49m\u001B[38;5;28;43;01mif\u001B[39;49;00m\u001B[43m \u001B[49m\u001B[43mcookies\u001B[49m\u001B[43m \u001B[49m\u001B[38;5;129;43;01mis\u001B[39;49;00m\u001B[43m \u001B[49m\u001B[38;5;28;43;01mNone\u001B[39;49;00m\u001B[43m \u001B[49m\u001B[38;5;28;43;01melse\u001B[39;49;00m\u001B[43m \u001B[49m\u001B[43mcookies\u001B[49m\u001B[43m)\u001B[49m\n\u001B[1;32m    500\u001B[0m all_branches \u001B[38;5;241m=\u001B[39m [x[\u001B[38;5;124m'\u001B[39m\u001B[38;5;124mRevision\u001B[39m\u001B[38;5;124m'\u001B[39m] \u001B[38;5;28;01mfor\u001B[39;00m x \u001B[38;5;129;01min\u001B[39;00m all_branches_detail] \u001B[38;5;28;01mif\u001B[39;00m all_branches_detail \u001B[38;5;28;01melse\u001B[39;00m []\n\u001B[1;32m    501\u001B[0m all_tags \u001B[38;5;241m=\u001B[39m [x[\u001B[38;5;124m'\u001B[39m\u001B[38;5;124mRevision\u001B[39m\u001B[38;5;124m'\u001B[39m] \u001B[38;5;28;01mfor\u001B[39;00m x \u001B[38;5;129;01min\u001B[39;00m all_tags_detail] \u001B[38;5;28;01mif\u001B[39;00m all_tags_detail \u001B[38;5;28;01melse\u001B[39;00m []\n",
      "File \u001B[0;32m~/miniconda3/envs/llmfactory/lib/python3.10/site-packages/modelscope/hub/api.py:578\u001B[0m, in \u001B[0;36mHubApi.get_model_branches_and_tags_details\u001B[0;34m(self, model_id, use_cookies)\u001B[0m\n\u001B[1;32m    575\u001B[0m path \u001B[38;5;241m=\u001B[39m \u001B[38;5;124mf\u001B[39m\u001B[38;5;124m'\u001B[39m\u001B[38;5;132;01m{\u001B[39;00m\u001B[38;5;28mself\u001B[39m\u001B[38;5;241m.\u001B[39mendpoint\u001B[38;5;132;01m}\u001B[39;00m\u001B[38;5;124m/api/v1/models/\u001B[39m\u001B[38;5;132;01m{\u001B[39;00mmodel_id\u001B[38;5;132;01m}\u001B[39;00m\u001B[38;5;124m/revisions\u001B[39m\u001B[38;5;124m'\u001B[39m\n\u001B[1;32m    576\u001B[0m r \u001B[38;5;241m=\u001B[39m \u001B[38;5;28mself\u001B[39m\u001B[38;5;241m.\u001B[39msession\u001B[38;5;241m.\u001B[39mget(path, cookies\u001B[38;5;241m=\u001B[39mcookies,\n\u001B[1;32m    577\u001B[0m                      headers\u001B[38;5;241m=\u001B[39m\u001B[38;5;28mself\u001B[39m\u001B[38;5;241m.\u001B[39mbuilder_headers(\u001B[38;5;28mself\u001B[39m\u001B[38;5;241m.\u001B[39mheaders))\n\u001B[0;32m--> 578\u001B[0m \u001B[43mhandle_http_response\u001B[49m\u001B[43m(\u001B[49m\u001B[43mr\u001B[49m\u001B[43m,\u001B[49m\u001B[43m \u001B[49m\u001B[43mlogger\u001B[49m\u001B[43m,\u001B[49m\u001B[43m \u001B[49m\u001B[43mcookies\u001B[49m\u001B[43m,\u001B[49m\u001B[43m \u001B[49m\u001B[43mmodel_id\u001B[49m\u001B[43m)\u001B[49m\n\u001B[1;32m    579\u001B[0m d \u001B[38;5;241m=\u001B[39m r\u001B[38;5;241m.\u001B[39mjson()\n\u001B[1;32m    580\u001B[0m raise_on_error(d)\n",
      "File \u001B[0;32m~/miniconda3/envs/llmfactory/lib/python3.10/site-packages/modelscope/hub/errors.py:118\u001B[0m, in \u001B[0;36mhandle_http_response\u001B[0;34m(response, logger, cookies, model_id)\u001B[0m\n\u001B[1;32m    116\u001B[0m \u001B[38;5;28;01mif\u001B[39;00m http_error_msg:  \u001B[38;5;66;03m# there is error.\u001B[39;00m\n\u001B[1;32m    117\u001B[0m     logger\u001B[38;5;241m.\u001B[39merror(http_error_msg)\n\u001B[0;32m--> 118\u001B[0m     \u001B[38;5;28;01mraise\u001B[39;00m HTTPError(http_error_msg, response\u001B[38;5;241m=\u001B[39mresponse)\n",
      "\u001B[0;31mHTTPError\u001B[0m: The request model: Robin021/DISC-Law-SFT does not exist!"
     ]
    }
   ],
   "source": [
    "# model_dir = snapshot_download('qwen/Qwen-7B', local_dir='./models')\n",
    "model_dir2 =  snapshot_download('Robin021/DISC-Law-SFT', local_dir='./models/DISC-Law-SFT')"
   ]
  },
  {
   "cell_type": "code",
   "execution_count": 46,
   "id": "16579c75-beb7-4e14-81f9-323386bd6b01",
   "metadata": {
    "pycharm": {
     "name": "#%%\n"
    }
   },
   "outputs": [],
   "source": []
  },
  {
   "cell_type": "code",
   "execution_count": 47,
   "id": "a1955a9b-e5c6-48c2-8b69-91e078e88562",
   "metadata": {
    "pycharm": {
     "name": "#%%\n"
    }
   },
   "outputs": [],
   "source": []
  },
  {
   "cell_type": "code",
   "execution_count": 48,
   "id": "546b3dca-c77f-4a92-a51e-60fdd99d2565",
   "metadata": {
    "pycharm": {
     "name": "#%%\n"
    }
   },
   "outputs": [],
   "source": []
  },
  {
   "cell_type": "code",
   "execution_count": 54,
   "id": "64819aed-7772-4db5-8ed4-09254a6f0f22",
   "metadata": {
    "pycharm": {
     "name": "#%%\n"
    }
   },
   "outputs": [],
   "source": []
  },
  {
   "cell_type": "code",
   "execution_count": null,
   "id": "0a00ca77-0acd-4d12-8198-81483f7ab61a",
   "metadata": {
    "pycharm": {
     "name": "#%%\n"
    }
   },
   "outputs": [],
   "source": []
  }
 ],
 "metadata": {
  "kernelspec": {
   "display_name": "Python 3 (ipykernel)",
   "language": "python",
   "name": "python3"
  },
  "language_info": {
   "codemirror_mode": {
    "name": "ipython",
    "version": 3
   },
   "file_extension": ".py",
   "mimetype": "text/x-python",
   "name": "python",
   "nbconvert_exporter": "python",
   "pygments_lexer": "ipython3",
   "version": "3.10.14"
  }
 },
 "nbformat": 4,
 "nbformat_minor": 5
}