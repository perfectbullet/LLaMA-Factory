{
 "cells": [
  {
   "cell_type": "code",
   "execution_count": 16,
   "id": "f201fce2-4918-4e59-b7da-376870c18027",
   "metadata": {
    "scrolled": true
   },
   "outputs": [],
   "source": [
    "import os\n",
    "import re\n",
    "from os.path import join, getsize\n",
    "import chardet\n",
    "import pandas as pd\n",
    "from typing import List\n",
    "from  deal_docx_info import save2json, read_json"
   ]
  },
  {
   "cell_type": "markdown",
   "id": "c16edc7d-b59d-48e6-8b1b-f4399685c185",
   "metadata": {},
   "source": [
    "# 转换编码"
   ]
  },
  {
   "cell_type": "code",
   "execution_count": 8,
   "id": "d2b9235b-cd62-43d2-a267-a534a3331e83",
   "metadata": {},
   "outputs": [
    {
     "name": "stdout",
     "output_type": "stream",
     "text": [
      "root is ./\n",
      "root is ./Surgical_外科\n",
      "外科5-14000.csv\n",
      "department\n",
      "root is ./Pediatric_儿科\n",
      "儿科5-14000.csv\n",
      "department\n",
      "root is ./IM_内科\n",
      "内科5000-33000.csv\n",
      "department\n",
      "root is ./IM_内科/.ipynb_checkpoints\n",
      "root is ./Oncology_肿瘤科\n",
      "肿瘤科5-10000.csv\n",
      "department\n",
      "root is ./OAGD_妇产科\n",
      "妇产科6-28000.csv\n",
      "department\n",
      "root is ./.ipynb_checkpoints\n",
      "root is ./Andriatria_男科\n",
      "男科5-13000.csv\n",
      "department\n",
      "root is ./Andriatria_男科/.ipynb_checkpoints\n"
     ]
    }
   ],
   "source": [
    "def change_encode(data_dir):\n",
    "    for root, dirs, files in os.walk(data_dir):\n",
    "        print('root is {}'.format(root))\n",
    "        for name in files:\n",
    "            if not name.endswith('.csv'):\n",
    "                continue\n",
    "            if name.startswith('new_'):\n",
    "                continue\n",
    "            print(name)\n",
    "            with open(join(root, name), mode='rb') as f:\n",
    "                content = f.read()\n",
    "                # print(chardet.detect(content))\n",
    "                content_str = content.decode('GB2312', errors='replace')\n",
    "                \n",
    "                new_name = 'new_' + name\n",
    "                with open(join(data_dir, new_name), mode='wt', encoding='utf8') as f2:\n",
    "                    print(content_str[:10])\n",
    "                    f2.write(content_str)\n",
    "# data_dir = './'\n",
    "# change_encode(data_dir)"
   ]
  },
  {
   "cell_type": "code",
   "execution_count": 25,
   "id": "6ea3d274-a940-4973-ae98-e85457669ef2",
   "metadata": {},
   "outputs": [],
   "source": [
    "def read_csv(data_dir='./') -> List:\n",
    "    recovered_json = []\n",
    "    for root, dirs, files in os.walk(data_dir):\n",
    "        print('root is {}'.format(root))\n",
    "        for name in files:\n",
    "            if not name.endswith('.csv'):\n",
    "                continue\n",
    "            if not name.startswith('new_'):\n",
    "                continue\n",
    "            print(name)\n",
    "            datas = pd.read_csv(join(root, name), encoding='utf8')\n",
    "            datas = datas.fillna('')\n",
    "            for data in datas.to_dict('records'):\n",
    "                \n",
    "                recovered_json.append({\n",
    "                    \"instruction\": \"现在你是一个{}医生，请根据患者的问题给出建议：\".format(data['department']),\n",
    "                    \"input\": data['ask'],\n",
    "                    \"output\": data['answer']\n",
    "                })\n",
    "    print('len of recovered_json is {}'.format(len(recovered_json)))\n",
    "    return recovered_json"
   ]
  },
  {
   "cell_type": "code",
   "execution_count": 26,
   "id": "7df05672-cecd-4136-a7d3-0670fb52893c",
   "metadata": {},
   "outputs": [
    {
     "name": "stdout",
     "output_type": "stream",
     "text": [
      "root is ./\n",
      "new_男科5-13000.csv\n",
      "new_内科5000-33000.csv\n",
      "new_肿瘤科5-10000.csv\n",
      "new_外科5-14000.csv\n",
      "new_妇产科6-28000.csv\n",
      "new_儿科5-14000.csv\n",
      "root is ./Surgical_外科\n",
      "root is ./Pediatric_儿科\n",
      "root is ./IM_内科\n",
      "root is ./IM_内科/.ipynb_checkpoints\n",
      "root is ./Oncology_肿瘤科\n",
      "root is ./OAGD_妇产科\n",
      "root is ./.ipynb_checkpoints\n",
      "root is ./Andriatria_男科\n",
      "root is ./Andriatria_男科/.ipynb_checkpoints\n"
     ]
    }
   ],
   "source": [
    "recovered_json = read_csv()"
   ]
  },
  {
   "cell_type": "code",
   "execution_count": 27,
   "id": "526c71ba-9e7d-4d12-9a16-28c882816f3f",
   "metadata": {},
   "outputs": [
    {
     "name": "stdout",
     "output_type": "stream",
     "text": [
      "datas is 792099\n"
     ]
    },
    {
     "data": {
      "text/plain": [
       "'/data/llama_index_work/LLaMA-Factory/data/chinese-medical-dataset/Chinese-medical-dialogue-data-master/Data_数据/Chinese-medical-dialogue-data-alpaca-v1.json'"
      ]
     },
     "execution_count": 27,
     "metadata": {},
     "output_type": "execute_result"
    }
   ],
   "source": [
    "save2json(recovered_json, './Chinese-medical-dialogue-data-alpaca-v1.json')"
   ]
  },
  {
   "cell_type": "code",
   "execution_count": 33,
   "id": "01695cc6-5d8c-4994-99f6-4a5d26eba3f8",
   "metadata": {},
   "outputs": [
    {
     "data": {
      "text/plain": [
       "[{'instruction': '现在你是一个男性不育医生，请根据患者的问题给出建议：',\n",
       "  'input': '我和妻子在外地打拼很多年，现在有了房子也有了一些积蓄，我们打算今年要一个猪宝宝，但是从去年下半年一直到现在我媳妇也没怀孕，我们一起去医院检查发现是我的问题，我现在都不知道该怎么办了，请问：男性不育应该怎么样治较好？',\n",
       "  'output': '男性不孕不育症，应积极就诊仔细检查精液常规和生殖系统磁共振、性激素等相关检查，寻出不育原因后积极对症治疗。药物治疗的同时多歇息，恰当膳食营养，适当锻练。保持良好的心态，积极就诊专科治疗。平时劳逸结合，留意饮食卫生，忌烟酒、辛辣刺激性食物，祝早日康复。不育病情易反反复复，需要有长期的服食药物。而且对于男性患者来说，要及时去专业正规的医院诊病，根据仔细检查结果再考虑治疗。并且留意约束性生活，保持良好的心情，最后祝患者们早日康复。'}]"
      ]
     },
     "execution_count": 33,
     "metadata": {},
     "output_type": "execute_result"
    }
   ],
   "source": [
    "read_json('./Chinese-medical-dialogue-data-alpaca-v1.json')[10000:10001]"
   ]
  }
 ],
 "metadata": {
  "kernelspec": {
   "display_name": "Python 3 (ipykernel)",
   "language": "python",
   "name": "python3"
  },
  "language_info": {
   "codemirror_mode": {
    "name": "ipython",
    "version": 3
   },
   "file_extension": ".py",
   "mimetype": "text/x-python",
   "name": "python",
   "nbconvert_exporter": "python",
   "pygments_lexer": "ipython3",
   "version": "3.10.14"
  }
 },
 "nbformat": 4,
 "nbformat_minor": 5
}
